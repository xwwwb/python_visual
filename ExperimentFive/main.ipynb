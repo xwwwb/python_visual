{
 "cells": [
  {
   "cell_type": "markdown",
   "source": [
    "# 实验内容\n",
    "本次实验继续使用jupyter notebook 组织代码和文字\n",
    "\n",
    "## 实验1"
   ],
   "metadata": {
    "collapsed": false
   }
  },
  {
   "cell_type": "code",
   "execution_count": 9,
   "outputs": [
    {
     "name": "stdout",
     "output_type": "stream",
     "text": [
      "数字：3 出现的次数：102\n",
      "数字：7 出现的次数：108\n",
      "数字：8 出现的次数：120\n",
      "数字：5 出现的次数：98\n",
      "数字：2 出现的次数：86\n",
      "数字：4 出现的次数：92\n",
      "数字：6 出现的次数：95\n",
      "数字：0 出现的次数：111\n",
      "数字：9 出现的次数：84\n",
      "数字：1 出现的次数：104\n"
     ]
    }
   ],
   "source": [
    "from random import choice\n",
    "from string import digits\n",
    "\n",
    "numberArray = [choice(digits) for i in range(1000)]\n",
    "numString = ''.join(numberArray)\n",
    "\n",
    "result = {}\n",
    "\n",
    "for item in numString:\n",
    "    result[item] = result.get(item, 0) + 1\n",
    "\n",
    "for k, v in result.items():\n",
    "    print(f\"数字：{k} 出现的次数：{v}\", sep=\"\\t\")\n"
   ],
   "metadata": {
    "collapsed": false
   }
  },
  {
   "cell_type": "markdown",
   "source": [
    "# 实验2"
   ],
   "metadata": {
    "collapsed": false
   }
  },
  {
   "cell_type": "code",
   "execution_count": 10,
   "outputs": [
    {
     "name": "stdout",
     "output_type": "stream",
     "text": [
      "计算交集\t{1, 3, 5, 7, 9}\n",
      "计算并集\t{1, 2, 3, 4, 5, 6, 7, 8, 9}\n",
      "计算差集\tset()\n",
      "计算差集\t{8, 2, 4, 6}\n",
      "计算补集\t{8, 2, 4, 6}\n",
      "计算交集\t{1, 3, 5, 7, 9}\n",
      "计算并集\t{1, 2, 3, 4, 5, 6, 7, 8, 9}\n",
      "计算差集\tset()\n",
      "计算差集\t{8, 2, 4, 6}\n",
      "计算补集\t{2, 4, 6, 8}\n"
     ]
    }
   ],
   "source": [
    "SetA = {1, 3, 5, 7, 9}\n",
    "SetB = {1, 2, 3, 4, 5, 6, 7, 8, 9}\n",
    "# 计算交集\n",
    "print(\"计算交集\", SetA & SetB, sep=\"\\t\")\n",
    "# 计算并集\n",
    "print(\"计算并集\", SetA | SetB, sep=\"\\t\")\n",
    "# 计算差集\n",
    "print(\"计算差集\", SetA - SetB, sep=\"\\t\")\n",
    "print(\"计算差集\", SetB - SetA, sep=\"\\t\")\n",
    "# 计算补集\n",
    "print(\"计算补集\", (SetA | SetB) - (SetA & SetB), sep=\"\\t\")\n",
    "# 第二种方法\n",
    "# 计算交集\n",
    "print(\"计算交集\", SetA.intersection(SetB), sep=\"\\t\")\n",
    "# 计算并集\n",
    "print(\"计算并集\", SetA.union(SetB), sep=\"\\t\")\n",
    "# 计算差集\n",
    "print(\"计算差集\", SetA.difference(SetB), sep=\"\\t\")\n",
    "print(\"计算差集\", SetB.difference(SetA), sep=\"\\t\")\n",
    "# 计算补集\n",
    "print(\"计算补集\", SetA.symmetric_difference(SetB), sep=\"\\t\")\n"
   ],
   "metadata": {
    "collapsed": false
   }
  },
  {
   "cell_type": "markdown",
   "source": [
    "# 实验3"
   ],
   "metadata": {
    "collapsed": false
   }
  },
  {
   "cell_type": "code",
   "execution_count": 11,
   "outputs": [
    {
     "name": "stdout",
     "output_type": "stream",
     "text": [
      "[0, 1, 2, 3, 4, 5, 6, 7, 8, 9, 10, 11, 12, 13, 14, 15, 16, 17, 18, 19, 20, 21, 22, 23, 24, 25, 26, 27, 28, 29]\t[0, 1, 2, 3, 4, 5, 6, 7, 8, 9, 10, 11, 12, 13, 14, 15, 16, 17, 18, 19]\n",
      "{0: 0, 1: 1, 2: 2, 3: 3, 4: 4, 5: 5, 6: 6, 7: 7, 8: 8, 9: 9, 10: 10, 11: 11, 12: 12, 13: 13, 14: 14, 15: 15, 16: 16, 17: 17, 18: 18, 19: 19}\n"
     ]
    }
   ],
   "source": [
    "List_1 = [i for i in range(30)]\n",
    "List_2 = [i for i in range(20)]\n",
    "print(List_1, List_2, sep='\\t')\n",
    "List_3 = zip(List_1, List_2)\n",
    "List = dict(List_3)\n",
    "print(List)"
   ],
   "metadata": {
    "collapsed": false
   }
  },
  {
   "cell_type": "markdown",
   "source": [
    "# 实验4"
   ],
   "metadata": {
    "collapsed": false
   }
  },
  {
   "cell_type": "code",
   "execution_count": 12,
   "outputs": [
    {
     "name": "stdout",
     "output_type": "stream",
     "text": [
      "已经计算了0.0%\n",
      "已经计算了10.0%\n",
      "已经计算了20.0%\n",
      "已经计算了30.0%\n",
      "已经计算了40.0%\n",
      "已经计算了50.0%\n",
      "已经计算了60.0%\n",
      "已经计算了70.0%\n",
      "已经计算了80.0%\n",
      "已经计算了90.0%\n",
      "圆周率的值是：3.1414392\n"
     ]
    }
   ],
   "source": [
    "import random\n",
    "\n",
    "# 设正方形的边长为2 则半径为1\n",
    "# 设圆的面积为S 则圆的半径为r 则 S = πr^2\n",
    "# 概率 = 圆内的点数 / 总点数 = πr^2 / 4r^2 = π / 4\n",
    "# 由此可得 π = 4 * 圆内的点数 / 总点数\n",
    "\n",
    "MAX_TIME = 20000000\n",
    "count = 0\n",
    "speed = MAX_TIME / 10\n",
    "\n",
    "for i in range(MAX_TIME):\n",
    "    x = random.random()\n",
    "    y = random.random()\n",
    "    if x ** 2 + y ** 2 <= 1:\n",
    "        count += 1\n",
    "    if i % speed == 0:\n",
    "        print(f\"已经计算了{(i / speed) * 10}%\")\n",
    "\n",
    "print(f\"圆周率的值是：{4 * count / MAX_TIME}\")"
   ],
   "metadata": {
    "collapsed": false
   }
  },
  {
   "cell_type": "markdown",
   "source": [
    "# 实验5"
   ],
   "metadata": {
    "collapsed": false
   }
  },
  {
   "cell_type": "code",
   "execution_count": 14,
   "outputs": [
    {
     "name": "stdout",
     "output_type": "stream",
     "text": [
      "name的值是：xwb\n",
      "class的值是：4\n",
      "gender的值是：1\n",
      "major的值是：computer\n",
      "birthday的值是：2001-12-26\n",
      "没有该信息\n",
      "没有该信息\n"
     ]
    }
   ],
   "source": [
    "data = {\n",
    "    'name': 'xwb',\n",
    "    'age': 21,\n",
    "    'gender': 1,\n",
    "    'school': 'zzuli',\n",
    "    'major': 'computer',\n",
    "    'class': 4,\n",
    "    'hobby': 'Python',\n",
    "    'grade': 3.3,\n",
    "    'height': 1.7,\n",
    "    'birthday': '2001-12-26'\n",
    "}\n",
    "\n",
    "while True:\n",
    "    key = input(\"请输入要查询的信息：\")\n",
    "    if key == 'q' or key == 'Q':\n",
    "        break\n",
    "    if key in data:\n",
    "        print(f\"{key}的值是：{data[key]}\")\n",
    "    else:\n",
    "        print(\"没有该信息\")"
   ],
   "metadata": {
    "collapsed": false
   }
  },
  {
   "cell_type": "markdown",
   "source": [
    "# 实验6"
   ],
   "metadata": {
    "collapsed": false
   }
  },
  {
   "cell_type": "code",
   "execution_count": 17,
   "outputs": [
    {
     "name": "stdout",
     "output_type": "stream",
     "text": [
      "出现次数最多的字母是：e，出现的次数是：96\n"
     ]
    }
   ],
   "source": [
    "text = '''“He dashed back across the road, hurried up to his office, snapped at his secretary not to disturb him, seized his telephone, and had almost finished dialing his home number when he changed his mind. He put the receiver back down and stroked his mustache, thinking … no, he was being stupid. Potter wasn’t such an unusual name. He was sure there were lots of people called Potter who had a son called Harry. Come to think of it, he wasn’t even sure his nephew was called Harry. He’d never even seen the boy. It might have been Harvey. Or Harold. There was no point in worrying Mrs. Dursley; she always got so upset at any mention of her sister. He didn’t blame her — if he’d had a sister like that … but all the same, those people in cloaks …”\n",
    "\n",
    "Excerpt From\n",
    "Harry Potter and the Sorcerer's Stone\n",
    "J.K. Rowling\n",
    "https://itunes.apple.com/WebObjects/MZStore.woa/wa/viewBook?id=0\n",
    "This material may be protected by copyright.'''\n",
    "\n",
    "result = {}\n",
    "for item in text:\n",
    "    if item.isalpha():\n",
    "        result[item] = result.get(item, 0) + 1\n",
    "\n",
    "tmp = 0\n",
    "key = ''\n",
    "for k, v in result.items():\n",
    "    if v > tmp:\n",
    "        tmp = v\n",
    "        key = k\n",
    "print(f\"出现次数最多的字母是：{key}，出现的次数是：{tmp}\")"
   ],
   "metadata": {
    "collapsed": false
   }
  },
  {
   "cell_type": "markdown",
   "source": [
    "# 实验7"
   ],
   "metadata": {
    "collapsed": false
   }
  },
  {
   "cell_type": "code",
   "execution_count": 25,
   "outputs": [
    {
     "name": "stdout",
     "output_type": "stream",
     "text": [
      "True\n"
     ]
    }
   ],
   "source": [
    "def test(num):\n",
    "    # 这里的num一定是四位数\n",
    "    a = num // 1000\n",
    "    b = num % 1000 // 100\n",
    "    c = num % 100 // 10\n",
    "    d = num % 10\n",
    "    list = [a, b, c, d]  # 这是四个数字\n",
    "    count = 0\n",
    "    while True:\n",
    "        if count > 7:\n",
    "            return False\n",
    "        # 拿到最大数\n",
    "        list_1 = sorted(list, reverse=True)\n",
    "        num_1 = list_1[0] * 1000 + list_1[1] * 100 + list_1[2] * 10 + list_1[3]\n",
    "        # 拿到最小数\n",
    "        list_2 = sorted(list)\n",
    "        num_2 = list_2[0] * 1000 + list_2[1] * 100 + list_2[2] * 10 + list_2[3]\n",
    "        # 差值\n",
    "        num_3 = num_1 - num_2\n",
    "        if num_3 == 6174:\n",
    "            return True\n",
    "        else:\n",
    "            a = num_3 // 1000\n",
    "            b = num_3 % 1000 // 100\n",
    "            c = num_3 % 100 // 10\n",
    "            d = num_3 % 10\n",
    "            list = [a, b, c, d]\n",
    "            count += 1\n",
    "\n",
    "\n",
    "# 生成20个四位数\n",
    "testList = []\n",
    "for i in range(20):\n",
    "    num = random.randint(1000, 9999)\n",
    "    testList.append(num)\n",
    "# 用all函数测试\n",
    "result = all(True == test(i) for i in testList)\n",
    "print(result)"
   ],
   "metadata": {
    "collapsed": false
   }
  },
  {
   "cell_type": "markdown",
   "source": [
    "# 实验8"
   ],
   "metadata": {
    "collapsed": false
   }
  },
  {
   "cell_type": "code",
   "execution_count": 26,
   "outputs": [
    {
     "name": "stdout",
     "output_type": "stream",
     "text": [
      "分数必须在0~100之间，请重新输入！\n",
      "该选手的最终得分为：70.00\n"
     ]
    }
   ],
   "source": [
    "n = int(input(\"请输入评委数量：\"))\n",
    "while n <= 2:\n",
    "    print(\"评委数量必须大于2，请重新输入！\")\n",
    "    n = int(input(\"请输入评委数量：\"))\n",
    "\n",
    "scores = []\n",
    "for i in range(n):\n",
    "    s = int(input(\"请输入第{}个评委的打分：\".format(i + 1)))\n",
    "    while s < 0 or s > 100:\n",
    "        print(\"分数必须在0~100之间，请重新输入！\")\n",
    "        s = int(input(\"请输入第{}个评委的打分：\".format(i + 1)))\n",
    "    scores.append(s)\n",
    "\n",
    "scores.sort()\n",
    "scores = scores[1:-1]  # 去掉一个最高分和一个最低分\n",
    "average_score = sum(scores) / len(scores)\n",
    "print(\"该选手的最终得分为：{:.2f}\".format(average_score))"
   ],
   "metadata": {
    "collapsed": false
   }
  },
  {
   "cell_type": "markdown",
   "source": [
    "# 实验9\n",
    "这里使用的数据是做GIS实验课时爬取的数据"
   ],
   "metadata": {
    "collapsed": false
   }
  },
  {
   "cell_type": "code",
   "execution_count": 43,
   "outputs": [
    {
     "data": {
      "text/plain": "<Figure size 800x800 with 1 Axes>",
      "image/png": "[encoded data removed]"
     },
     "metadata": {},
     "output_type": "display_data"
    }
   ],
   "source": [
    "import numpy as np\n",
    "import matplotlib.pyplot as plt\n",
    "\n",
    "fig = plt.figure(figsize=(8, 8))\n",
    "ax = plt.subplot(111, projection='polar')\n",
    "# 顺时针\n",
    "ax.set_theta_direction(-1)\n",
    "# 设置0度\n",
    "ax.set_theta_zero_location('N')\n",
    "\n",
    "data = [58071.4, 54259.4, 53717.8, 49935.9, 44824.9, 40249.3, 37084.1, 34574.8, 31632.5]\n",
    "\n",
    "theta = np.linspace(0, np.pi * 2, len(data), endpoint=False)\n",
    "\n",
    "ax.bar(theta, data, width=0.7, color=np.random.random((len(data), 3))\n",
    "       , align='edge', bottom=100)\n",
    "ax.text(np.pi * 3 / 2 - 0.2, 90,\n",
    "        'HeNan GDP', fontsize=10)\n",
    "\n",
    "title = [2021, 2020, 2019, 2018, 2017, 2016, 2015, 2014, 2013]\n",
    "title_count = 0\n",
    "for angle, height in zip(theta, data):\n",
    "    ax.text(angle + 0.03, height + 105, str(height) + ' ' + str(title[title_count]) + 'Year', fontsize=10)\n",
    "    title_count += 1\n",
    "\n",
    "plt.axis('off')\n",
    "plt.tight_layout()\n",
    "plt.show()"
   ],
   "metadata": {
    "collapsed": false
   }
  },
  {
   "cell_type": "code",
   "execution_count": null,
   "outputs": [],
   "source": [],
   "metadata": {
    "collapsed": false,
    "pycharm": {
     "is_executing": true
    }
   }
  },
  {
   "cell_type": "code",
   "execution_count": 41,
   "outputs": [],
   "source": [],
   "metadata": {
    "collapsed": false
   }
  }
 ],
 "metadata": {
  "kernelspec": {
   "display_name": "Python 3",
   "language": "python",
   "name": "python3"
  },
  "language_info": {
   "codemirror_mode": {
    "name": "ipython",
    "version": 2
   },
   "file_extension": ".py",
   "mimetype": "text/x-python",
   "name": "python",
   "nbconvert_exporter": "python",
   "pygments_lexer": "ipython2",
   "version": "2.7.6"
  }
 },
 "nbformat": 4,
 "nbformat_minor": 0
}
