{
 "cells": [
  {
   "cell_type": "markdown",
   "source": [
    "## 序列解包"
   ],
   "metadata": {
    "collapsed": false
   }
  },
  {
   "cell_type": "code",
   "execution_count": null,
   "outputs": [],
   "source": [
    "def demo(a, b, c):\n",
    "  print(a + b + c)\n",
    "\n",
    "\n",
    "seq = [1, 2, 3]\n",
    "demo(*seq)\n",
    "tup = (1, 2, 3)\n",
    "demo(*tup)\n",
    "dic = {1: 'a', 2: 'b', 3: 'c'}\n",
    "demo(*dic)\n",
    "demo(*dic.values())\n",
    "dic = {'a': 1, 'b': 2, 'c': 3}\n",
    "demo(**dic)\n",
    "demo(a=1, b=2, c=3)\n",
    "demo(*dic.values())"
   ],
   "metadata": {
    "collapsed": false,
    "is_executing": true,
    "ExecuteTime": {
     "start_time": "2023-06-23T07:50:49.410130Z"
    }
   }
  },
  {
   "cell_type": "markdown",
   "source": [
    "## 可变长度参数"
   ],
   "metadata": {
    "collapsed": false
   }
  },
  {
   "cell_type": "code",
   "execution_count": null,
   "outputs": [],
   "source": [
    "def add(a, b, *args, **kwargs):\n",
    "  print('In function:\\na = {} \\nb = {} \\nargs = {} \\nkwargs = {}'.format(a, b, args, kwargs))\n",
    "  return a + b + sum(args) + sum(kwargs.values())\n",
    "\n",
    "\n",
    "print(add(3, 8, 1, 2, 3, 4, x=5, y=6, z=7))\n",
    "print('=' * 20)\n",
    "print(add(1, 2, 3, 4, 5, 6, 7, 8, 9, x=10, y=11))"
   ],
   "metadata": {
    "collapsed": false,
    "is_executing": true
   }
  },
  {
   "cell_type": "markdown",
   "source": [
    "## 递归求自然数各位数字的和"
   ],
   "metadata": {
    "collapsed": false
   }
  },
  {
   "cell_type": "code",
   "execution_count": 46,
   "outputs": [
    {
     "name": "stdout",
     "output_type": "stream",
     "text": [
      "45\n"
     ]
    }
   ],
   "source": [
    "def sum_digits(n):\n",
    "  if n < 10:\n",
    "    return n\n",
    "  else:\n",
    "    return n % 10 + sum_digits(n // 10)\n",
    "\n",
    "\n",
    "print(sum_digits(123456789))"
   ],
   "metadata": {
    "collapsed": false,
    "ExecuteTime": {
     "end_time": "2023-06-23T07:50:49.496713Z",
     "start_time": "2023-06-23T07:50:49.434148Z"
    }
   }
  },
  {
   "cell_type": "markdown",
   "source": [
    "## 字符统计\n",
    "统计出最长行的长度和内容"
   ],
   "metadata": {
    "collapsed": false
   }
  },
  {
   "cell_type": "code",
   "execution_count": 47,
   "outputs": [
    {
     "name": "stdout",
     "output_type": "stream",
     "text": [
      "[70, 'There should be one-- and preferably only one --obvious way to do it.\\n']\n"
     ]
    }
   ],
   "source": [
    "with open(\"sample.txt\", 'r') as f:\n",
    "  result = [0, '']\n",
    "  for line in f:\n",
    "    if len(line) > result[0]:\n",
    "      result[0] = len(line)\n",
    "      result[1] = line\n",
    "\n",
    "print(result)"
   ],
   "metadata": {
    "collapsed": false,
    "ExecuteTime": {
     "end_time": "2023-06-23T07:50:49.497526Z",
     "start_time": "2023-06-23T07:50:49.439665Z"
    }
   }
  },
  {
   "cell_type": "markdown",
   "source": [
    "## CSV模块读写"
   ],
   "metadata": {
    "collapsed": false
   }
  },
  {
   "cell_type": "code",
   "execution_count": 48,
   "outputs": [
    {
     "name": "stdout",
     "output_type": "stream",
     "text": [
      "['a', 'b', 'c']\n",
      "['1', '2', '3']\n",
      "['t', 'e', 's', 't', 't', 'e', 's', 't', 't', 'e', 's', 't', 't', 'e', 's', 't', 't', 'e', 's', 't']\n"
     ]
    }
   ],
   "source": [
    "import csv\n",
    "\n",
    "with open('test.csv', 'w', newline='') as f:\n",
    "  test_writer = csv.writer(f, delimiter=' ', quotechar='\"')\n",
    "  test_writer.writerow(['a', 'b', 'c'])\n",
    "  test_writer.writerow(['1', '2', '3'])\n",
    "  test_writer.writerow(\"test\" * 5)\n",
    "with open('test.csv', 'r') as f:\n",
    "  test_reader = csv.reader(f, delimiter=' ', quotechar='\"')\n",
    "  for row in test_reader:\n",
    "    print(row)"
   ],
   "metadata": {
    "collapsed": false,
    "ExecuteTime": {
     "end_time": "2023-06-23T07:50:49.499019Z",
     "start_time": "2023-06-23T07:50:49.442505Z"
    }
   }
  },
  {
   "cell_type": "markdown",
   "source": [
    "## 保存文件"
   ],
   "metadata": {
    "collapsed": false
   }
  },
  {
   "cell_type": "code",
   "execution_count": 49,
   "outputs": [
    {
     "name": "stdout",
     "output_type": "stream",
     "text": [
      "The Zen of Pyxwwwb by Tim Peters\n",
      "\n",
      "Beautiful is better than ugly.\n",
      "Explicit is better than implicit.\n",
      "Simple is better than complex.\n",
      "Complex is better than complicated.\n",
      "Flat is better than nested.\n",
      "Sparse is better than dense.\n",
      "Readability counts.\n",
      "Special cases aren't special enough to break the rules.\n",
      "Although practicality beats purity.\n",
      "Errors should never pass silently.\n",
      "Unless explicitly silenced.\n",
      "In the face of ambiguity, refuse the temptation to guess.\n",
      "There should be one-- and preferably only one --obvious way to do it.\n",
      "Although that way may not be obvious at first unless you're Dutch.\n",
      "Now is better than never.\n",
      "Although never is often better than *right* now.\n",
      "If the implementation is hard to explain, it's a bad idea.\n",
      "If the implementation is easy to explain, it may be a good idea.\n",
      "Namespaces are one honking great idea -- let's do more of those!\n"
     ]
    }
   ],
   "source": [
    "with open('sample.txt', 'r+', encoding='utf-8') as f:\n",
    "  f.seek(13)\n",
    "  f.write('xwwwb')\n",
    "  f.close()\n",
    "\n",
    "with open('sample.txt', 'r', encoding='utf-8') as f:\n",
    "  print(f.read())"
   ],
   "metadata": {
    "collapsed": false,
    "ExecuteTime": {
     "end_time": "2023-06-23T07:50:49.506113Z",
     "start_time": "2023-06-23T07:50:49.451503Z"
    }
   }
  },
  {
   "cell_type": "markdown",
   "source": [
    "## 序列号反序列化"
   ],
   "metadata": {
    "collapsed": false
   }
  },
  {
   "cell_type": "code",
   "execution_count": 50,
   "outputs": [
    {
     "name": "stdout",
     "output_type": "stream",
     "text": [
      "{\"a\": 1, \"b\": 2, \"c\": 3}\n",
      "{'a': 1, 'b': 2, 'c': 3}\n"
     ]
    }
   ],
   "source": [
    "import json\n",
    "\n",
    "dic = {'a': 1, 'b': 2, 'c': 3}\n",
    "print(json.dumps(dic))\n",
    "print(json.loads(json.dumps(dic)))"
   ],
   "metadata": {
    "collapsed": false,
    "ExecuteTime": {
     "end_time": "2023-06-23T07:50:49.506560Z",
     "start_time": "2023-06-23T07:50:49.458399Z"
    }
   }
  },
  {
   "cell_type": "markdown",
   "source": [
    "## 二进制文件数据存储"
   ],
   "metadata": {
    "collapsed": false
   }
  },
  {
   "cell_type": "code",
   "execution_count": 51,
   "outputs": [
    {
     "name": "stdout",
     "output_type": "stream",
     "text": [
      "The Zen of Pyxwwwb by Tim Peters\n",
      "\n",
      "Beautiful is better than ugly.\n",
      "Explicit is better than implicit.\n",
      "Simple is better than complex.\n",
      "Complex is better than complicated.\n",
      "Flat is better than nested.\n",
      "Sparse is better than dense.\n",
      "Readability counts.\n",
      "Special cases aren't special enough to break the rules.\n",
      "Although practicality beats purity.\n",
      "Errors should never pass silently.\n",
      "Unless explicitly silenced.\n",
      "In the face of ambiguity, refuse the temptation to guess.\n",
      "There should be one-- and preferably only one --obvious way to do it.\n",
      "Although that way may not be obvious at first unless you're Dutch.\n",
      "Now is better than never.\n",
      "Although never is often better than *right* now.\n",
      "If the implementation is hard to explain, it's a bad idea.\n",
      "If the implementation is easy to explain, it may be a good idea.\n",
      "Namespaces are one honking great idea -- let's do more of those!\n"
     ]
    }
   ],
   "source": [
    "import pickle\n",
    "\n",
    "with open(\"sample.txt\", 'r', encoding='utf-8') as src, open(\"sample.data\", 'wb') as dst:\n",
    "  pickle.dump(src.read(), dst)\n",
    "\n",
    "with open(\"sample.data\", 'rb') as src:\n",
    "  print(pickle.load(src))"
   ],
   "metadata": {
    "collapsed": false,
    "ExecuteTime": {
     "end_time": "2023-06-23T07:50:49.506746Z",
     "start_time": "2023-06-23T07:50:49.462387Z"
    }
   }
  },
  {
   "cell_type": "markdown",
   "source": [
    "## 词云生成"
   ],
   "metadata": {
    "collapsed": false
   }
  },
  {
   "cell_type": "code",
   "execution_count": 52,
   "outputs": [
    {
     "data": {
      "text/plain": "<wordcloud.wordcloud.WordCloud at 0x13a1966d0>"
     },
     "execution_count": 52,
     "metadata": {},
     "output_type": "execute_result"
    }
   ],
   "source": [
    "import jieba\n",
    "import wordcloud\n",
    "\n",
    "txt7 = \"党的二十大报告，提出了一系列新思路、新战略、新举措，一句句短小的句子，饱含着大大的能量。’时代呼唤着我们，人民期待着我们’’江山就是人民、人民就是江山’’新时代的伟大成就是党和人民一道拼出来、干出来、奋斗出来的’。金句一：’我们党立志于中华民族千秋伟业，致力于人类和平与发展崇高事业，责任无比重大，使命无上光荣。全党同志务必不忘初心、牢记使命，务必谦虚谨慎、艰苦奋斗，务必敢于斗争、善于斗争，坚定历史自信，增强历史主动，谱写新时代中国特色社会主义更加绚丽的华章。’百年风霜，忠心向党。时间砥砺信仰，岁月见证初心。历史和实践证明，我们只有听党召唤、跟党奋斗，才能在时代洪流中书写壮丽的奋斗篇章。作为奋战在灭火救援工作一线的一名党员，我将把个人梦想融入党的事业，把奋斗激情和伟大建党精神紧密结合，担负时代使命，勇立时代潮头，奋力拼搏、开拓进取，在灭火救援一线绽放人生光彩。衷心祝愿伟大的中国共产党，在新时代书写更大的荣光，在新征程上铸就新的辉煌。金句四：’尊重自然、顺应自然、保护自然，是全面建设社会主义现化化国家的内在要求。’作为森林消防员，我将牢固树立和践行绿水青山就是金山银山，冰天雪地也是金山银山的理念，立足本职岗位，牢记初心使命，将个人理想融入祖国的绿色事业，为维护祖国边疆生态屏障安全、维护西藏的绿水青山奉献自己的青春与力量。\"\n",
    "\n",
    "w = wordcloud.WordCloud(width=1000, height=800, font_path=r\"/System/Library/Fonts/STHeiti Light.ttc\")\n",
    "w.generate(\" \".join(jieba.lcut(txt7)))\n",
    "w.to_file(\"word_cloud.png\")"
   ],
   "metadata": {
    "collapsed": false,
    "ExecuteTime": {
     "end_time": "2023-06-23T07:50:51.652344Z",
     "start_time": "2023-06-23T07:50:49.473489Z"
    }
   }
  },
  {
   "cell_type": "markdown",
   "source": [
    "## 英文词云生成"
   ],
   "metadata": {
    "collapsed": false
   }
  },
  {
   "cell_type": "code",
   "execution_count": 53,
   "outputs": [
    {
     "data": {
      "text/plain": "<wordcloud.wordcloud.WordCloud at 0x13a05e1f0>"
     },
     "execution_count": 53,
     "metadata": {},
     "output_type": "execute_result"
    }
   ],
   "source": [
    "import wordcloud\n",
    "\n",
    "word_list = []\n",
    "\n",
    "with open('sample.txt', 'r', encoding='utf-8') as f:\n",
    "  # 读取文件\n",
    "  text = f.read()\n",
    "  # 分词\n",
    "  word_list = text.split()\n",
    "\n",
    "wordcloud.WordCloud(width=1000, height=800).generate(\" \".join(word_list)).to_file(\"word_cloud2.png\")"
   ],
   "metadata": {
    "collapsed": false,
    "ExecuteTime": {
     "end_time": "2023-06-23T07:50:52.678859Z",
     "start_time": "2023-06-23T07:50:51.654224Z"
    }
   }
  },
  {
   "cell_type": "markdown",
   "source": [
    "## 词云生成"
   ],
   "metadata": {
    "collapsed": false
   }
  },
  {
   "cell_type": "code",
   "execution_count": 36,
   "outputs": [
    {
     "data": {
      "text/plain": "True"
     },
     "execution_count": 36,
     "metadata": {},
     "output_type": "execute_result"
    }
   ],
   "source": [
    "import jieba\n",
    "import wordcloud\n",
    "import cv2\n",
    "with open(\"notes.txt\", 'r', encoding='utf-8') as f:\n",
    "  text = f.read()\n",
    "  word_list = jieba.lcut(text)\n",
    "  w = wordcloud.WordCloud(background_color='white', width=1000, height=800, font_path=r\"/System/Library/Fonts/STHeiti Light.ttc\")\n",
    "  w.generate(\" \".join(word_list))\n",
    "  w.to_file(\"word_cloud3.png\")\n",
    "\n",
    "# 将两个图片合并\n",
    "# word_cloud3中空白部分 使用FFFFFFFF.png填充\n",
    "img1 = cv2.imread(\"word_cloud3.png\")\n",
    "img2 = cv2.imread(\"bg.png\")\n",
    "img2 = cv2.resize(img2, (img1.shape[1], img1.shape[0]))\n",
    "\n",
    "# 将img1中的白色部分替换为img2中的对应部分\n",
    "for i in range(img1.shape[0]):\n",
    "  for j in range(img1.shape[1]):\n",
    "    if img1[i, j, 0] >= 240 and img1[i, j, 1] >= 240 and img1[i, j, 2] >= 240:\n",
    "      img1[i, j] = img2[i, j]\n",
    "\n",
    "cv2.imwrite(\"word_cloud4.png\", img1)\n"
   ],
   "metadata": {
    "collapsed": false,
    "ExecuteTime": {
     "end_time": "2023-06-24T02:00:50.297320Z",
     "start_time": "2023-06-24T02:00:44.305532Z"
    }
   }
  },
  {
   "cell_type": "code",
   "execution_count": null,
   "outputs": [],
   "source": [],
   "metadata": {
    "collapsed": false
   }
  }
 ],
 "metadata": {
  "kernelspec": {
   "display_name": "Python 3",
   "language": "python",
   "name": "python3"
  },
  "language_info": {
   "codemirror_mode": {
    "name": "ipython",
    "version": 2
   },
   "file_extension": ".py",
   "mimetype": "text/x-python",
   "name": "python",
   "nbconvert_exporter": "python",
   "pygments_lexer": "ipython2",
   "version": "2.7.6"
  }
 },
 "nbformat": 4,
 "nbformat_minor": 0
}
