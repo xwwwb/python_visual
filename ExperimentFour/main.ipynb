{
 "cells": [
  {
   "cell_type": "markdown",
   "metadata": {},
   "source": [
    "# 实验内容\n",
    "由于本次实验分为不同的几个代码段，为了方便组织代码和文字 我使用jupyter notebook 完成本次实验\n",
    "并使用插件将结果转换为Word 形成了本次实验\n",
    "\n",
    "\n",
    "## 实验内容1\n",
    "各种形式创建列表"
   ]
  },
  {
   "cell_type": "code",
   "execution_count": null,
   "metadata": {
    "ExecuteTime": {
     "end_time": "2023-04-09T21:52:05.558747Z",
     "start_time": "2023-04-09T21:52:05.530615Z"
    },
    "pycharm": {
     "is_executing": true
    }
   },
   "outputs": [],
   "source": [
    "list_1 = list()  # 通过空构造函数创建列表\n",
    "print(list_1)\n",
    "list_2 = []  # 直接创建空列表\n",
    "print(list_2)\n",
    "list_3 = [1, 2, 3, 4, 5]  # 直接创建列表 带初始值\n",
    "print(list_3)\n",
    "list_4 = list((1, 2, 3, 4, 5))  # 通过元组创建列表\n",
    "print(list_4)\n",
    "list_5 = list({1, 3, 5, 7})  # 通过集合创建列表\n",
    "print(list_5)\n",
    "list_6 = list(range(10))  # 通过range创建列表\n",
    "print(list_6)\n",
    "list_7 = list(map(lambda x: x * x, range(10)))  # 通过map创建列表\n",
    "print(list_7)\n",
    "list_8 = list(filter(lambda x: x % 2 == 0, range(10)))  # 通过filter创建列表\n",
    "print(list_8)\n",
    "list_9 = list(zip(range(10), range(10)))  # 通过zip创建列表\n",
    "print(list_9)\n",
    "list_10 = list('hello world')  # 通过字符串创建列表\n",
    "print(list_10)\n",
    "list_11 = list(enumerate(\"xwwwb\"))  # 通过enumerate创建列表\n",
    "print(list_11)\n",
    "del list_1, list_2, list_3, list_4, list_5, list_6, list_7, list_8, list_9, list_10, list_11\n",
    "print('删除全部列表，下面的代码会报错 因为已经无法访问到了')\n",
    "print(list_1)"
   ]
  },
  {
   "cell_type": "markdown",
   "metadata": {},
   "source": [
    "## 实验内容2\n",
    "下标法访问元素"
   ]
  },
  {
   "cell_type": "code",
   "execution_count": 2,
   "metadata": {},
   "outputs": [
    {
     "name": "stdout",
     "output_type": "stream",
     "text": [
      "[0, 1, 2, 3, 4, 5, 6, 7, 8, 9]\n",
      "0\n",
      "1\n",
      "9\n"
     ]
    },
    {
     "ename": "IndexError",
     "evalue": "list index out of range",
     "output_type": "error",
     "traceback": [
      "\u001B[0;31m---------------------------------------------------------------------------\u001B[0m",
      "\u001B[0;31mIndexError\u001B[0m                                Traceback (most recent call last)",
      "Cell \u001B[0;32mIn[2], line 6\u001B[0m\n\u001B[1;32m      4\u001B[0m \u001B[38;5;28mprint\u001B[39m(data[\u001B[38;5;241m1\u001B[39m])  \u001B[38;5;66;03m# 第二个\u001B[39;00m\n\u001B[1;32m      5\u001B[0m \u001B[38;5;28mprint\u001B[39m(data[\u001B[38;5;241m-\u001B[39m\u001B[38;5;241m1\u001B[39m])  \u001B[38;5;66;03m# 倒数第一个\u001B[39;00m\n\u001B[0;32m----> 6\u001B[0m \u001B[38;5;28mprint\u001B[39m(\u001B[43mdata\u001B[49m\u001B[43m[\u001B[49m\u001B[38;5;241;43m15\u001B[39;49m\u001B[43m]\u001B[49m)  \u001B[38;5;66;03m# 报错\u001B[39;00m\n",
      "\u001B[0;31mIndexError\u001B[0m: list index out of range"
     ]
    }
   ],
   "source": [
    "data = list(range(10))\n",
    "print(data)\n",
    "print(data[0])  # 第一个\n",
    "print(data[1])  # 第二个\n",
    "print(data[-1])  # 倒数第一个\n",
    "print(data[15])  # 报错"
   ]
  },
  {
   "cell_type": "markdown",
   "metadata": {},
   "source": [
    "## 实验内容3\n",
    "列表常用方法设计与练习"
   ]
  },
  {
   "cell_type": "code",
   "execution_count": 3,
   "metadata": {},
   "outputs": [
    {
     "name": "stdout",
     "output_type": "stream",
     "text": [
      "[1, 2, 3, 4, 5, 6]\n",
      "[1, 2, 3, 4, 5, 6, 5]\n",
      "[0, 1, 2, 3, 4, 5, 6, 5]\n",
      "[0, 1, 1.5, 2, 3, 4, 5, 6, 5]\n",
      "[0, 1, 1.5, 2, 3, 4, 5, 6, 5, 6, 7]\n",
      "[0, 1, 1.5, 2, 3, 4, 5, 6, 5, 6, 7, [8, 9]]\n",
      "6\n",
      "1\n",
      "4\n",
      "[2, 3, 5]\n",
      "[1, 3, 2, 4, 2]\n",
      "2\n",
      "6\n"
     ]
    },
    {
     "ename": "ValueError",
     "evalue": "5 is not in list",
     "output_type": "error",
     "traceback": [
      "\u001B[0;31m---------------------------------------------------------------------------\u001B[0m",
      "\u001B[0;31mValueError\u001B[0m                                Traceback (most recent call last)",
      "Cell \u001B[0;32mIn[3], line 26\u001B[0m\n\u001B[1;32m     24\u001B[0m \u001B[38;5;28mprint\u001B[39m(lst\u001B[38;5;241m.\u001B[39mcount(\u001B[38;5;241m2\u001B[39m))  \u001B[38;5;66;03m# 统计2出现的次数\u001B[39;00m\n\u001B[1;32m     25\u001B[0m \u001B[38;5;28mprint\u001B[39m(lst\u001B[38;5;241m.\u001B[39mindex(\u001B[38;5;241m4\u001B[39m))  \u001B[38;5;66;03m# 统计4第一次出现的下标\u001B[39;00m\n\u001B[0;32m---> 26\u001B[0m \u001B[38;5;28mprint\u001B[39m(\u001B[43mlst\u001B[49m\u001B[38;5;241;43m.\u001B[39;49m\u001B[43mindex\u001B[49m\u001B[43m(\u001B[49m\u001B[38;5;241;43m5\u001B[39;49m\u001B[43m)\u001B[49m)  \u001B[38;5;66;03m# 报错 数组中没有5\u001B[39;00m\n",
      "\u001B[0;31mValueError\u001B[0m: 5 is not in list"
     ]
    }
   ],
   "source": [
    "lst = [1, 2, 3, 4, 5, 6]\n",
    "print(lst)\n",
    "lst.append(5)\n",
    "print(lst)\n",
    "lst.insert(0, 0)\n",
    "print(lst)\n",
    "lst.insert(2, 1.5)\n",
    "print(lst)\n",
    "lst.extend([6, 7])  # extend 一个数组的时候 会将该数组中的元素添加到被操作数组中\n",
    "print(lst)\n",
    "lst.append([8, 9])  # append 一个数组的时候 会将该数组作为子数组添加到被操作数组中\n",
    "print(lst)\n",
    "\n",
    "lst = [1, 2, 3, 4, 5, 6]\n",
    "print(lst.pop())  # 删除并返回最后一个\n",
    "print(lst.pop(0))  # 删除并返回下标为0的元素\n",
    "print(lst.pop(2))  # 删除并返回下标为2的元素\n",
    "print(lst)\n",
    "lst = [1, 2, 3, 2, 4, 2]\n",
    "lst.remove(2)  # 删除第一个2\n",
    "print(lst)\n",
    "\n",
    "lst = [1, 2, 2, 3, 3, 3, 4, 4, 4, 4]\n",
    "print(lst.count(2))  # 统计2出现的次数\n",
    "print(lst.index(4))  # 统计4第一次出现的下标\n",
    "print(lst.index(5))  # 报错 数组中没有5"
   ]
  },
  {
   "cell_type": "markdown",
   "metadata": {},
   "source": [
    "## 实验内容4\n",
    "对于列表`L1 = [' 北京'，' 上海'，' 天津'，' 济南'，' 郑州'，' 合肥'，' 南京'，' 杭州']`\n",
    "实现以下功能\n",
    "\n",
    "1. 计算列表的长度；\n",
    "2. 向列表追加元素' 福州'，并输出添加后的列表；\n",
    "3. 在列表的第3 个位置插入元素' 太原'，并输出添加后的列表；\n",
    "4. 修改列表第5 个位置的元素为' 石家庄'，并输出修改后的列表；\n",
    "5. 删除列表中的元素' 上海'，并输出修改后的列表；\n",
    "6. 删除列表中的第1 个元素，并输出删除元素的值以及删除后的列表；\n",
    "7. 查询并输出元素' 郑州' 的索引位置；\n",
    "8. 使用切片操作，输出列表第1 到第5 个元素的值；\n",
    "9. 使用切片操作，输出列表从开始到第6 个元素的值；\n",
    "10. 使用切片操作，输出列表从第6 个元素到最后的所有元素值；\n",
    "11. 使用切片操作，逆序输出列表第4 个元素到最后一个元素的值；\n",
    "12. 把列表L1 转换成元组T"
   ]
  },
  {
   "cell_type": "code",
   "execution_count": 32,
   "metadata": {},
   "outputs": [
    {
     "name": "stdout",
     "output_type": "stream",
     "text": [
      "8\n",
      "['北京', '上海', '天津', '济南', '郑州', '合肥', '南京', '杭州', '福州']\n",
      "['北京', '上海', '太原', '天津', '济南', '郑州', '合肥', '南京', '杭州', '福州']\n",
      "['北京', '上海', '太原', '天津', '石家庄', '郑州', '合肥', '南京', '杭州', '福州']\n",
      "['北京', '太原', '天津', '石家庄', '郑州', '合肥', '南京', '杭州', '福州']\n",
      "北京\n",
      "['太原', '天津', '石家庄', '郑州', '合肥', '南京', '杭州', '福州']\n",
      "3\n",
      "['太原', '天津', '石家庄', '郑州', '合肥']\n",
      "['太原', '天津', '石家庄', '郑州', '合肥', '南京']\n",
      "['南京', '杭州', '福州']\n",
      "['郑州', '合肥', '南京', '杭州', '福州']\n",
      "('太原', '天津', '石家庄', '郑州', '合肥', '南京', '杭州', '福州')\n"
     ]
    }
   ],
   "source": [
    "L1 = ['北京', '上海', '天津', '济南', '郑州', '合肥', '南京', '杭州']\n",
    "print(len(L1))  # 计算列表的长度；\n",
    "L1.append('福州')  # 向列表追加元素' 福州'，并输出添加后的列表\n",
    "print(L1)\n",
    "L1.insert(2, '太原')  # 在列表的第3 个位置插入元素' 太原'，并输出添加后的列表\n",
    "print(L1)\n",
    "L1[4] = '石家庄'  # 修改列表第5 个位置的元素为' 石家庄'，并输出修改后的列表\n",
    "print(L1)\n",
    "L1.remove('上海')  # 删除列表中的元素' 上海'，并输出修改后的列表\n",
    "print(L1)\n",
    "print(L1.pop(0))  # 删除列表中的第1 个元素，并输出删除元素的值以及删除后的列表\n",
    "print(L1)\n",
    "print(L1.index('郑州'))  # 查询并输出元素' 郑州' 的索引位置\n",
    "print(L1[0:5])  # 使用切片操作，输出列表第1 到第5 个元素的值\n",
    "print(L1[:6])  # 使用切片操作，输出列表从开始到第6 个元素的值\n",
    "print(L1[5:])  # 使用切片操作，输出列表从第6 个元素到最后的所有元素值\n",
    "print(L1[3:])  # 使用切片操作，逆序输出列表第4 个元素到最后一个元素的值\n",
    "print(tuple(L1))  # 把列表L1 转换成元组T"
   ]
  },
  {
   "cell_type": "markdown",
   "metadata": {},
   "source": [
    "## 实验内容5\n",
    "学习列表的加法乘法运算法 成员测试运算符 id函数 掌握返回新列表和原地操作的不同"
   ]
  },
  {
   "cell_type": "code",
   "execution_count": 4,
   "metadata": {},
   "outputs": [
    {
     "name": "stdout",
     "output_type": "stream",
     "text": [
      "4358480768\n",
      "4358578880\n",
      "4358578880\n",
      "4358480768\n",
      "4358578752\n",
      "4358578752\n",
      "True\n",
      "False\n"
     ]
    }
   ],
   "source": [
    "x = [1, 2, 3]\n",
    "print(id(x))\n",
    "x = x + [4]\n",
    "print(id(x))  # 此时的x是新列表\n",
    "x += [5]\n",
    "print(id(x))  # 此时的x是原地操作 地址不变\n",
    "\n",
    "x = [1, 2, 3, 4]\n",
    "print(id(x))\n",
    "x = x * 2\n",
    "print(id(x))  # 此时的x是新列表\n",
    "x *= 2\n",
    "print(id(x))  # 此时的x是原地操作 地址不变\n",
    "\n",
    "print(3 in [1, 2, 3])\n",
    "print(3 in [1, 2, '3'])"
   ]
  },
  {
   "cell_type": "markdown",
   "metadata": {},
   "source": [
    "## 实验内容6\n",
    "内置函数对列表的操作"
   ]
  },
  {
   "cell_type": "code",
   "execution_count": 33,
   "metadata": {},
   "outputs": [
    {
     "name": "stdout",
     "output_type": "stream",
     "text": [
      "[7, 3, 5, 9, 0, 2, 1, 6, 8, 4]\n",
      "False\n",
      "True\n",
      "9\n",
      "9\n",
      "0\n",
      "45\n",
      "10\n",
      "[(7, 1), (3, 1), (5, 1), (9, 1), (0, 1), (2, 1), (1, 1), (6, 1), (8, 1), (4, 1)]\n",
      "[(1,), (2,), (3,)]\n",
      "[('1', 'a'), ('2', 'b'), ('3', 'c')]\n",
      "[('1', 1), ('2', 2)]\n",
      "<enumerate object at 0x1171a9480>\n",
      "range(0, 10)\n",
      "[(0, 7), (1, 3), (2, 5), (3, 9), (4, 0), (5, 2), (6, 1), (7, 6), (8, 8), (9, 4)]\n",
      "[0, 1, 2, 3, 4, 5, 6, 7, 8, 9]\n"
     ]
    }
   ],
   "source": [
    "x = list(range(10))\n",
    "import random\n",
    "\n",
    "random.shuffle(x)  # 乱序\n",
    "print(x)\n",
    "print(all(x))  # 测试是否所有元素都为真 因为有0 所以结果应该是False\n",
    "print(any(x))  # 测试是否有元素为真 因为有1 所以结果应该是True\n",
    "print(max(x))  # 返回最大值\n",
    "print(max(x, key=str))  # 返回Ascii最大的值\n",
    "print(min(x))  # 返回最小值\n",
    "print(sum(x))  # 返回和\n",
    "print(len(x))  # 返回长度\n",
    "print(list(zip(x, [1] * 10)))  # 将两个列表合并成一个列表\n",
    "print(list(zip(range(1, 4))))  # zip传入一个参数 序列或迭代对象\n",
    "print(list(zip(['1', '2', '3'], ['a', 'b', 'c'])))  # zip传入两个参数 序列或迭代对象\n",
    "print(list(zip(['1', '2'], [1, 2, 3])))  # zip传入两个参数 长度不同时以短的为准\n",
    "print(enumerate(x))  # 返回一个枚举对象 不可直接访问\n",
    "print(range(10))  # 返回一个range对象 不可直接访问\n",
    "print(list(enumerate(x)))  # 使用list函数作用与枚举对象 返回一个列表\n",
    "print(list(range(10)))  # 使用list函数作用与range对象 返回一个列表"
   ]
  },
  {
   "cell_type": "markdown",
   "metadata": {},
   "source": [
    "## 实验内容7\n",
    "打印本学期课表\n",
    "使用了markdown的格式输出表格 jupyter无法显示正常的tab符"
   ]
  },
  {
   "cell_type": "code",
   "execution_count": 34,
   "metadata": {},
   "outputs": [
    {
     "name": "stdout",
     "output_type": "stream",
     "text": [
      "|节|星期一|星期二|星期三|星期四|星期五|星期六|星期日|\n",
      "|-|-|-|-|-|-|-|-|\n",
      "|1|专业英语|编译原理|计算机体系结构|编译原理|大学生就业指南|空|空|\n",
      "|2|形势政策|空|计算机图形学|毛泽东思想及中国特色社会主义|计算机图形学|GIS实验|空|\n",
      "|3|空|毛泽东思想及中国特色社会主义|空|空|GIS创新|Python数据可视化|空|\n",
      "|4|操作系统|空|操作系统|空|专业英语|计算机图形学实验|空|\n"
     ]
    }
   ],
   "source": [
    "course = [['专业英语', '形势政策', None, '操作系统'],\n",
    "          ['编译原理', None, '毛泽东思想及中国特色社会主义', None],\n",
    "          ['计算机体系结构', '计算机图形学', None, '操作系统'],\n",
    "          ['编译原理', '毛泽东思想及中国特色社会主义', None, None],\n",
    "          ['大学生就业指南', '计算机图形学', 'GIS创新', '专业英语'],\n",
    "          [None, 'GIS实验', 'Python数据可视化', '计算机图形学实验'],\n",
    "          [None] * 4\n",
    "          ]\n",
    "title = ['节', '星期一', '星期二', '星期三', '星期四', '星期五', '星期六', '星期日']\n",
    "print('|' + '|'.join(title) + '|')\n",
    "print('|' + '-|' * 8)\n",
    "for i in range(4):\n",
    "    print(f\"|{i + 1}\", end='')\n",
    "    for j in range(7):\n",
    "        if course[j][i] is None:\n",
    "            print('|空', end='')\n",
    "        else:\n",
    "            print(\"|\" + course[j][i], end='')\n",
    "    print('|')"
   ]
  },
  {
   "cell_type": "markdown",
   "metadata": {},
   "source": [
    "### 输出结果：\n",
    "|节|星期一|星期二|星期三|星期四|星期五|星期六|星期日|\n",
    "|-|-|-|-|-|-|-|-|\n",
    "|1|专业英语|编译原理|计算机体系结构|编译原理|大学生就业指南|空|空|\n",
    "|2|形势政策|空|计算机图形学|毛泽东思想及中国特色社会主义|计算机图形学|GIS实验|空|\n",
    "|3|空|毛泽东思想及中国特色社会主义|空|空|GIS创新|Python数据可视化|空|\n",
    "|4|操作系统|空|操作系统|空|专业英语|计算机图形学实验|空|"
   ]
  },
  {
   "cell_type": "markdown",
   "metadata": {},
   "source": [
    "## 实验内容8\n",
    "输入大于2的自然数，输出小于该数字的所有素数列表"
   ]
  },
  {
   "cell_type": "code",
   "execution_count": 35,
   "metadata": {},
   "outputs": [
    {
     "name": "stdout",
     "output_type": "stream",
     "text": [
      "大于2的自然数9\n",
      "[2, 3, 5, 7]\n"
     ]
    }
   ],
   "source": [
    "num = input(\"大于2的自然数\")\n",
    "num = int(num)\n",
    "if num <= 2:\n",
    "    print(\"输入错误\")\n",
    "else:\n",
    "    prime = [2]\n",
    "    for i in range(3, num):\n",
    "        for j in prime:\n",
    "            if i % j == 0:\n",
    "                break\n",
    "        else:\n",
    "            prime.append(i)\n",
    "    print(prime)"
   ]
  },
  {
   "cell_type": "markdown",
   "metadata": {},
   "source": [
    "## 实验内容9\n",
    "统计每个单词出现的次数\n",
    "`At half past eight, Mr. Dursley picked up his briefcase, pecked Mrs. Dursley on the cheek, and tried to kiss Dudley good-bye but missed, because Dudley was now having a tantrum and throwing his cereal at the walls. “Little tyke”, chortled Mr. Dursley as he left the house.\n",
    "`\n",
    "\n",
    "这次实验，其实可以用分词的库，但是考虑到本次实验重在学习列表的操作，就自己做了简单分词。"
   ]
  },
  {
   "cell_type": "code",
   "execution_count": 53,
   "metadata": {},
   "outputs": [
    {
     "name": "stdout",
     "output_type": "stream",
     "text": [
      "分词结果\n",
      "['At', 'half', 'past', 'eight', 'Mr', 'Dursley', 'picked', 'up', 'his', 'briefcase', 'pecked', 'Mrs', 'Dursley', 'on', 'the', 'cheek', 'and', 'tried', 'to', 'kiss', 'Dudley', 'good-bye', 'but', 'missed', 'because', 'Dudley', 'was', 'now', 'having', 'a', 'tantrum', 'and', 'throwing', 'his', 'cereal', 'at', 'the', 'walls', 'Little', 'tyke', 'chortled', 'Mr', 'Dursley', 'as', 'he', 'left', 'the', 'house']\n",
      "{'At': 1, 'half': 1, 'past': 1, 'eight': 1, 'Mr': 2, 'Dursley': 3, 'picked': 1, 'up': 1, 'his': 2, 'briefcase': 1, 'pecked': 1, 'Mrs': 1, 'on': 1, 'the': 3, 'cheek': 1, 'and': 2, 'tried': 1, 'to': 1, 'kiss': 1, 'Dudley': 2, 'good-bye': 1, 'but': 1, 'missed': 1, 'because': 1, 'was': 1, 'now': 1, 'having': 1, 'a': 1, 'tantrum': 1, 'throwing': 1, 'cereal': 1, 'at': 1, 'walls': 1, 'Little': 1, 'tyke': 1, 'chortled': 1, 'as': 1, 'he': 1, 'left': 1, 'house': 1}\n",
      "At出现了：1次\n",
      "half出现了：1次\n",
      "past出现了：1次\n",
      "eight出现了：1次\n",
      "Mr出现了：2次\n",
      "Dursley出现了：3次\n",
      "picked出现了：1次\n",
      "up出现了：1次\n",
      "his出现了：2次\n",
      "briefcase出现了：1次\n",
      "pecked出现了：1次\n",
      "Mrs出现了：1次\n",
      "on出现了：1次\n",
      "the出现了：3次\n",
      "cheek出现了：1次\n",
      "and出现了：2次\n",
      "tried出现了：1次\n",
      "to出现了：1次\n",
      "kiss出现了：1次\n",
      "Dudley出现了：2次\n",
      "good-bye出现了：1次\n",
      "but出现了：1次\n",
      "missed出现了：1次\n",
      "because出现了：1次\n",
      "was出现了：1次\n",
      "now出现了：1次\n",
      "having出现了：1次\n",
      "a出现了：1次\n",
      "tantrum出现了：1次\n",
      "throwing出现了：1次\n",
      "cereal出现了：1次\n",
      "at出现了：1次\n",
      "walls出现了：1次\n",
      "Little出现了：1次\n",
      "tyke出现了：1次\n",
      "chortled出现了：1次\n",
      "as出现了：1次\n",
      "he出现了：1次\n",
      "left出现了：1次\n",
      "house出现了：1次\n"
     ]
    }
   ],
   "source": [
    "text = \"\"\"At half past eight, Mr. Dursley picked up his briefcase, pecked Mrs. Dursley on the cheek, and tried to kiss Dudley good-bye but missed, because Dudley was now having a tantrum and throwing his cereal at the walls. \"Little tyke\", chortled Mr. Dursley as he left the house.\"\"\"\n",
    "# 先基于逗号分割\n",
    "text = text.split(',')\n",
    "# 基于引号分割\n",
    "text = [i.split('\"') for i in text]\n",
    "# 拼接所有子列表\n",
    "text = [j for i in text for j in i]\n",
    "# 基于英文点号分割\n",
    "text = [i.split('.') for i in text]\n",
    "# 拼接所有子列表\n",
    "text = [j for i in text for j in i]\n",
    "# 基于空格分割\n",
    "text = [i.split(' ') for i in text]\n",
    "# 拼接所有子列表\n",
    "text = [j for i in text for j in i]\n",
    "# 删除空字符串\n",
    "text = [i for i in text if i != '']\n",
    "print(\"分词结果\")\n",
    "print(text)\n",
    "count = {}\n",
    "for i in text:\n",
    "    if i in count:\n",
    "        count[i] += 1\n",
    "    else:\n",
    "        count[i] = 1\n",
    "print(count)\n",
    "for k in count:\n",
    "    print(f\"{k}出现了：{count[k]}次\")"
   ]
  },
  {
   "cell_type": "markdown",
   "metadata": {},
   "source": [
    "## 实验内容10\n",
    "元组`T1 = ('河北'，'河南'，'山东'，'安徽'，'江苏'，'浙江'，'河南'，'福建')`\n",
    "实现以下功能\n",
    "1. 试向T1添加元素‘江西’，是否能添加成功？\n",
    "2. 分别用for循环和while循环，遍历输出元组的元素；\n",
    "3. 统计元素‘河南’在元组中出现的次数；\n",
    "4. 查找元素‘山东’在元组中的位置；\n",
    "5. 把元组T1转换成列表L2；\n",
    "6. 把元组转换成字符串S；\n",
    "7. 有元组 T2 = （‘北京’，‘天津’，‘上海’），连接元组T1 和T2，生成新的元组T3。\n"
   ]
  },
  {
   "cell_type": "code",
   "execution_count": 57,
   "metadata": {},
   "outputs": [
    {
     "name": "stdout",
     "output_type": "stream",
     "text": [
      "元组不能添加新元素\n",
      "遍历元组\n",
      "河北\n",
      "河南\n",
      "山东\n",
      "安徽\n",
      "江苏\n",
      "浙江\n",
      "河南\n",
      "福建\n",
      "河北\n",
      "河南\n",
      "山东\n",
      "安徽\n",
      "江苏\n",
      "浙江\n",
      "河南\n",
      "福建\n",
      "统计元素“河南”在元组中出现的次数\n",
      "2\n",
      "查找元素“山东”在元组中的位置\n",
      "2\n",
      "把元组T1转换成列表L2\n",
      "['河北', '河南', '山东', '安徽', '江苏', '浙江', '河南', '福建']\n",
      "把元组转换成字符串S\n",
      "('河北', '河南', '山东', '安徽', '江苏', '浙江', '河南', '福建')\n",
      "连接元组T1 和T2，生成新的元组T3\n",
      "('河北', '河南', '山东', '安徽', '江苏', '浙江', '河南', '福建', '北京', '天津', '上海')\n"
     ]
    }
   ],
   "source": [
    "T1 = ('河北', '河南', '山东', '安徽', '江苏', '浙江', '河南', '福建')\n",
    "print('元组不能添加新元素')\n",
    "print('遍历元组')\n",
    "for i in T1:\n",
    "    print(i)\n",
    "while len(T1) > 0:\n",
    "    print(T1[0])\n",
    "    T1 = T1[1:]\n",
    "print('统计元素“河南”在元组中出现的次数')\n",
    "count = 0\n",
    "\n",
    "T1 = ('河北', '河南', '山东', '安徽', '江苏', '浙江', '河南', '福建')\n",
    "for i in T1:\n",
    "    if i == '河南':\n",
    "        count += 1\n",
    "print(count)\n",
    "print('查找元素“山东”在元组中的位置')\n",
    "for i in range(len(T1)):\n",
    "    if T1[i] == '山东':\n",
    "        print(i)\n",
    "print('把元组T1转换成列表L2')\n",
    "L2 = list(T1)\n",
    "print(L2)\n",
    "print('把元组转换成字符串S')\n",
    "S = str(T1)\n",
    "print(S)\n",
    "print('连接元组T1 和T2，生成新的元组T3')\n",
    "T2 = ('北京', '天津', '上海')\n",
    "T3 = T1 + T2\n",
    "print(T3)"
   ]
  },
  {
   "cell_type": "markdown",
   "metadata": {},
   "source": [
    "## 实验内容11\n",
    "有字典`D1 = {'安然': 95, '崔子健': 58, '丁肇庆': 85, '华红艳': 78, '古瑞霞': 68, '刘美丽': 90, '苏芮': 75}`\n",
    "设计代码实现下面的功能\n",
    "1. 为字典添加键值对‘陶知一’:92\n",
    "2. 用for循环遍历输出字典中的元素\n",
    "3. 删除字典中的键值对‘崔子健’:58\n",
    "4. 返回键‘刘美丽’对应的值，并删除该键值对\n",
    "5. 获取字典中的所有键，并转化成元组T\n",
    "6. 获取字典中的所有值，并转换成列表L\n",
    "7. 再把T和L合并成字典，以T中元素为键，以L中的元素为对应的值\n"
   ]
  },
  {
   "cell_type": "code",
   "execution_count": 58,
   "metadata": {},
   "outputs": [
    {
     "name": "stdout",
     "output_type": "stream",
     "text": [
      "添加新元素\n",
      "{'安然': 95, '崔子健': 58, '丁肇庆': 85, '华红艳': 78, '古瑞霞': 68, '刘美丽': 90, '苏芮': 75, '陶知一': 92}\n",
      "遍历字典\n",
      "安然:95\n",
      "崔子健:58\n",
      "丁肇庆:85\n",
      "华红艳:78\n",
      "古瑞霞:68\n",
      "刘美丽:90\n",
      "苏芮:75\n",
      "陶知一:92\n",
      "删除字典中的键值对‘崔子健’:58\n",
      "{'安然': 95, '丁肇庆': 85, '华红艳': 78, '古瑞霞': 68, '刘美丽': 90, '苏芮': 75, '陶知一': 92}\n",
      "返回键‘刘美丽’对应的值，并删除该键值对\n",
      "90\n",
      "{'安然': 95, '丁肇庆': 85, '华红艳': 78, '古瑞霞': 68, '苏芮': 75, '陶知一': 92}\n",
      "获取字典中的所有键，并转化成元组T\n",
      "('安然', '丁肇庆', '华红艳', '古瑞霞', '苏芮', '陶知一')\n",
      "获取字典中的所有值，并转换成列表L\n",
      "[95, 85, 78, 68, 75, 92]\n",
      "再把T和L合并成字典，以T中元素为键，以L中的元素为对应的值\n",
      "{'安然': 95, '丁肇庆': 85, '华红艳': 78, '古瑞霞': 68, '苏芮': 75, '陶知一': 92}\n"
     ]
    }
   ],
   "source": [
    "D1 = {'安然': 95, '崔子健': 58, '丁肇庆': 85, '华红艳': 78, '古瑞霞': 68, '刘美丽': 90, '苏芮': 75}\n",
    "\n",
    "print('添加新元素')\n",
    "D1['陶知一'] = 92\n",
    "print(D1)\n",
    "print(\"遍历字典\")\n",
    "for k in D1:\n",
    "    print(f\"{k}:{D1[k]}\")\n",
    "print('删除字典中的键值对‘崔子健’:58')\n",
    "del D1['崔子健']\n",
    "print(D1)\n",
    "print('返回键‘刘美丽’对应的值，并删除该键值对')\n",
    "print(D1.pop('刘美丽'))\n",
    "print(D1)\n",
    "print('获取字典中的所有键，并转化成元组T')\n",
    "T = tuple(D1.keys())\n",
    "print(T)\n",
    "print('获取字典中的所有值，并转换成列表L')\n",
    "L = list(D1.values())\n",
    "print(L)\n",
    "print('再把T和L合并成字典，以T中元素为键，以L中的元素为对应的值')\n",
    "D2 = dict(zip(T, L))\n",
    "print(D2)"
   ]
  },
  {
   "cell_type": "markdown",
   "metadata": {},
   "source": [
    "## 实验内容12\n",
    "本次绘制雷达图，需要使用concatenate函数对两个矩阵进行连接，否则会出现数据字段和标签字段维度不同的错误\n",
    "在我实验的过程中，如果手动将第一行的数据添加到最后一行，即手动拼接首尾，可以得到正确结果。\n",
    "\n",
    "但是使用concatenate的时候，一直无法连接成功，后来才知道，concatenate函数是将两个矩阵按照指定的轴进行连接，而不是将两个矩阵的首尾相连。我传入的两个数组维度不同，在解决后，才能得到正确的结果。\n"
   ]
  },
  {
   "cell_type": "code",
   "execution_count": 31,
   "metadata": {},
   "outputs": [
    {
     "name": "stdout",
     "output_type": "stream",
     "text": [
      "[80 75 85 82 70 65]\n"
     ]
    },
    {
     "data": {
      "image/png": "[encoded data removed]",
      "text/plain": [
       "<Figure size 640x480 with 1 Axes>"
      ]
     },
     "metadata": {},
     "output_type": "display_data"
    }
   ],
   "source": [
    "import numpy as np\n",
    "import matplotlib.pyplot as plt\n",
    "import matplotlib\n",
    "\n",
    "matplotlib.rcParams['font.family'] = 'Microsoft YaHei'\n",
    "\n",
    "radar_labels = np.array(\n",
    "    ['C++', 'Python', '高等数学', '大学英语', '电路分析', '软件工程', '计算机网络', '数据结构','C++'])\n",
    "data = np.array(\n",
    "    [[80, 75, 85, 82, 70, 65],\n",
    "     [95, 85, 90, 80, 75, 92],\n",
    "     [78, 74, 71, 70, 80, 82],\n",
    "     [85, 82, 80, 76, 73, 72],\n",
    "     [50, 75, 80, 86, 72, 67],\n",
    "     [72, 85, 80, 90, 76, 81],\n",
    "     [82, 75, 89, 91, 82, 70],\n",
    "     [90, 85, 55, 92, 81, 77],\n",
    "     # [80, 75, 85, 82, 70, 65]\n",
    "     ])\n",
    "\n",
    "print(data[0])\n",
    "\n",
    "data_labels = (\"文英\", \"赵普\", \"颜燕\", \"李科\", \"董晓\", \"杨阳\")\n",
    "angles = np.linspace(0, 2 * np.pi,9)\n",
    "fig = plt.figure(facecolor=\"white\")\n",
    "plt.subplot(111, polar=True)\n",
    "# 使用concatenate连接首尾数据\n",
    "data = np.concatenate((data, [data[0]]))\n",
    "\n",
    "plt.plot(angles, data, 'o-', linewidth=1)\n",
    "plt.thetagrids(angles * 180 / np.pi, radar_labels)\n",
    "plt.figtext(0.52, 0.95, \"某组学生课程成绩\", ha='center', size=20)\n",
    "legend = plt.legend(data_labels, loc=(0.94, 0.80), labelspacing=0.1)\n",
    "plt.setp(legend.get_texts(), fontsize='large')\n",
    "plt.grid(True)\n",
    "plt.show()"
   ]
  },
  {
   "cell_type": "markdown",
   "metadata": {},
   "source": [
    "## 实验内容13\n",
    "练习生成器表达式"
   ]
  },
  {
   "cell_type": "code",
   "execution_count": 62,
   "metadata": {},
   "outputs": [
    {
     "name": "stdout",
     "output_type": "stream",
     "text": [
      "<generator object <genexpr> at 0x10b0ad7b0>\n",
      "[1, 2, 4, 8, 16, 32, 64, 128]\n",
      "()\n",
      "1\n",
      "2\n",
      "4 8 16 32 64 128 "
     ]
    }
   ],
   "source": [
    "gen = (2 ** i for i in range(8))\n",
    "print(gen)\n",
    "print(list(gen))\n",
    "print(tuple(gen))  # 上一步操作 用完了生成器中的所有元素 要重新生成\n",
    "gen = (2 ** i for i in range(8))\n",
    "print(next(gen))\n",
    "print(next(gen))\n",
    "for item in gen:\n",
    "    print(item, end=' ')"
   ]
  },
  {
   "cell_type": "markdown",
   "metadata": {},
   "source": [
    "# 实验总结\n",
    "本次实验中，我系统学习了列表这一个数据结构。\n",
    "我了解到不同于C/C++ 这种强类型语言，Python的列表可以储存不同类型的数据，其实现的方式是，数据可能离散的存在内存中，而列表中保存的是数据的内存地址，这样的话，列表就能够保存不同类型的数据了。这种方式效率极高，在列表不是很长的时候，可以轻松的保存各种各样的数据而不影响性能，不过在列表长度非常大的时候，执行前插等操作的时候，还是会存在内存拷贝等。性能略微下降，但是这和他的便利性相比微不足道。\n",
    "\n",
    "我以往使用Python主要从事服务的搭建，为了支撑我开发的客户端程序或者是网页程序，或者使用Python进行一些数据爬取和数据整理。并没有深入了解Python处理相关。本次实验，我对numpy的理解进一步加深。在大三上学期的时候，我有学过numpy+opencv做图像处理，通过本次实验我间接理解了当时遇见的一个问题。\n",
    "\n",
    "本次实验源代码地址：\n",
    "https://github.com/xwwwb/python_visual/blob/main/ExperimentFour/main.ipynb"
   ]
  }
 ],
 "metadata": {
  "kernelspec": {
   "display_name": "Python 3 (ipykernel)",
   "language": "python",
   "name": "python3"
  },
  "language_info": {
   "codemirror_mode": {
    "name": "ipython",
    "version": 3
   },
   "file_extension": ".py",
   "mimetype": "text/x-python",
   "name": "python",
   "nbconvert_exporter": "python",
   "pygments_lexer": "ipython3",
   "version": "3.9.6"
  }
 },
 "nbformat": 4,
 "nbformat_minor": 1
}
