{
 "cells": [
  {
   "cell_type": "markdown",
   "source": [
    "## 实验内容1\n",
    "各种形式创建列表"
   ],
   "metadata": {
    "collapsed": false
   }
  },
  {
   "cell_type": "code",
   "execution_count": 1,
   "outputs": [
    {
     "name": "stdout",
     "output_type": "stream",
     "text": [
      "[]\n",
      "[]\n",
      "[1, 2, 3, 4, 5]\n",
      "[1, 2, 3, 4, 5]\n",
      "[1, 3, 5, 7]\n",
      "[0, 1, 2, 3, 4, 5, 6, 7, 8, 9]\n",
      "[0, 1, 4, 9, 16, 25, 36, 49, 64, 81]\n",
      "[0, 2, 4, 6, 8]\n",
      "[(0, 0), (1, 1), (2, 2), (3, 3), (4, 4), (5, 5), (6, 6), (7, 7), (8, 8), (9, 9)]\n",
      "['h', 'e', 'l', 'l', 'o', ' ', 'w', 'o', 'r', 'l', 'd']\n",
      "删除全部列表\n"
     ]
    },
    {
     "ename": "NameError",
     "evalue": "name 'list_1' is not defined",
     "output_type": "error",
     "traceback": [
      "\u001B[1;31m---------------------------------------------------------------------------\u001B[0m",
      "\u001B[1;31mNameError\u001B[0m                                 Traceback (most recent call last)",
      "Cell \u001B[1;32mIn[1], line 23\u001B[0m\n\u001B[0;32m     21\u001B[0m \u001B[38;5;28;01mdel\u001B[39;00m list_1, list_2, list_3, list_4, list_5, list_6, list_7, list_8, list_9, list_10\n\u001B[0;32m     22\u001B[0m \u001B[38;5;28mprint\u001B[39m(\u001B[38;5;124m'\u001B[39m\u001B[38;5;124m删除全部列表\u001B[39m\u001B[38;5;124m'\u001B[39m)\n\u001B[1;32m---> 23\u001B[0m \u001B[38;5;28mprint\u001B[39m(\u001B[43mlist_1\u001B[49m)\n",
      "\u001B[1;31mNameError\u001B[0m: name 'list_1' is not defined"
     ]
    }
   ],
   "source": [
    "list_1 = list() # 通过空构造函数创建列表\n",
    "print(list_1)\n",
    "list_2 = [] # 直接创建空列表\n",
    "print(list_2)\n",
    "list_3 = [1, 2, 3, 4, 5] # 直接创建列表 带初始值\n",
    "print(list_3)\n",
    "list_4 = list((1, 2, 3, 4, 5)) # 通过元组创建列表\n",
    "print(list_4)\n",
    "list_5 = list({1, 3, 5, 7}) # 通过集合创建列表\n",
    "print(list_5)\n",
    "list_6 = list(range(10)) # 通过range创建列表\n",
    "print(list_6)\n",
    "list_7 = list(map(lambda x: x * x, range(10))) # 通过map创建列表\n",
    "print(list_7)\n",
    "list_8 = list(filter(lambda x: x % 2 == 0, range(10))) # 通过filter创建列表\n",
    "print(list_8)\n",
    "list_9 = list(zip(range(10), range(10))) # 通过zip创建列表\n",
    "print(list_9)\n",
    "list_10 = list('hello world') # 通过字符串创建列表\n",
    "print(list_10)\n",
    "del list_1, list_2, list_3, list_4, list_5, list_6, list_7, list_8, list_9, list_10\n",
    "print('删除全部列表')\n",
    "print(list_1)\n"
   ],
   "metadata": {
    "collapsed": false,
    "ExecuteTime": {
     "start_time": "2023-04-09T21:52:05.530615Z",
     "end_time": "2023-04-09T21:52:05.558747Z"
    }
   }
  },
  {
   "cell_type": "markdown",
   "source": [
    "## 实验内容2\n",
    "下标法访问元素"
   ],
   "metadata": {
    "collapsed": false
   }
  },
  {
   "cell_type": "code",
   "execution_count": 2,
   "outputs": [
    {
     "name": "stdout",
     "output_type": "stream",
     "text": [
      "[0, 1, 2, 3, 4, 5, 6, 7, 8, 9]\n",
      "0\n",
      "1\n",
      "9\n"
     ]
    },
    {
     "ename": "IndexError",
     "evalue": "list index out of range",
     "output_type": "error",
     "traceback": [
      "\u001B[1;31m---------------------------------------------------------------------------\u001B[0m",
      "\u001B[1;31mIndexError\u001B[0m                                Traceback (most recent call last)",
      "Cell \u001B[1;32mIn[2], line 6\u001B[0m\n\u001B[0;32m      4\u001B[0m \u001B[38;5;28mprint\u001B[39m(data[\u001B[38;5;241m1\u001B[39m]) \u001B[38;5;66;03m# 第二个\u001B[39;00m\n\u001B[0;32m      5\u001B[0m \u001B[38;5;28mprint\u001B[39m(data[\u001B[38;5;241m-\u001B[39m\u001B[38;5;241m1\u001B[39m]) \u001B[38;5;66;03m# 倒数第一个\u001B[39;00m\n\u001B[1;32m----> 6\u001B[0m \u001B[38;5;28mprint\u001B[39m(\u001B[43mdata\u001B[49m\u001B[43m[\u001B[49m\u001B[38;5;241;43m15\u001B[39;49m\u001B[43m]\u001B[49m)\n",
      "\u001B[1;31mIndexError\u001B[0m: list index out of range"
     ]
    }
   ],
   "source": [
    "data = list(range(10))\n",
    "print(data)\n",
    "print(data[0]) # 第一个\n",
    "print(data[1]) # 第二个\n",
    "print(data[-1]) # 倒数第一个\n",
    "print(data[15]) # 报错"
   ],
   "metadata": {
    "collapsed": false
   }
  },
  {
   "cell_type": "code",
   "execution_count": null,
   "outputs": [],
   "source": [],
   "metadata": {
    "collapsed": false
   }
  }
 ],
 "metadata": {
  "kernelspec": {
   "display_name": "Python 3",
   "language": "python",
   "name": "python3"
  },
  "language_info": {
   "codemirror_mode": {
    "name": "ipython",
    "version": 2
   },
   "file_extension": ".py",
   "mimetype": "text/x-python",
   "name": "python",
   "nbconvert_exporter": "python",
   "pygments_lexer": "ipython2",
   "version": "2.7.6"
  }
 },
 "nbformat": 4,
 "nbformat_minor": 0
}
