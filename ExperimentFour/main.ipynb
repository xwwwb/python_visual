{
 "cells": [
  {
   "cell_type": "markdown",
   "metadata": {},
   "source": [
    "## 实验内容1\n",
    "各种形式创建列表"
   ]
  },
  {
   "cell_type": "code",
   "execution_count": 35,
   "metadata": {
    "ExecuteTime": {
     "end_time": "2023-04-09T21:52:05.558747Z",
     "start_time": "2023-04-09T21:52:05.530615Z"
    }
   },
   "outputs": [
    {
     "name": "stdout",
     "output_type": "stream",
     "text": [
      "[]\n",
      "[]\n",
      "[1, 2, 3, 4, 5]\n",
      "[1, 2, 3, 4, 5]\n",
      "[1, 3, 5, 7]\n",
      "[0, 1, 2, 3, 4, 5, 6, 7, 8, 9]\n",
      "[0, 1, 4, 9, 16, 25, 36, 49, 64, 81]\n",
      "[0, 2, 4, 6, 8]\n",
      "[(0, 0), (1, 1), (2, 2), (3, 3), (4, 4), (5, 5), (6, 6), (7, 7), (8, 8), (9, 9)]\n",
      "['h', 'e', 'l', 'l', 'o', ' ', 'w', 'o', 'r', 'l', 'd']\n",
      "[(0, 'x'), (1, 'w'), (2, 'w'), (3, 'w'), (4, 'b')]\n",
      "删除全部列表，下面的代码会报错 因为已经无法访问到了\n"
     ]
    },
    {
     "ename": "NameError",
     "evalue": "name 'list_1' is not defined",
     "output_type": "error",
     "traceback": [
      "\u001B[0;31m---------------------------------------------------------------------------\u001B[0m",
      "\u001B[0;31mNameError\u001B[0m                                 Traceback (most recent call last)",
      "Cell \u001B[0;32mIn[35], line 25\u001B[0m\n\u001B[1;32m     23\u001B[0m \u001B[38;5;28;01mdel\u001B[39;00m list_1, list_2, list_3, list_4, list_5, list_6, list_7, list_8, list_9, list_10, list_11\n\u001B[1;32m     24\u001B[0m \u001B[38;5;28mprint\u001B[39m(\u001B[38;5;124m'\u001B[39m\u001B[38;5;124m删除全部列表，下面的代码会报错 因为已经无法访问到了\u001B[39m\u001B[38;5;124m'\u001B[39m)\n\u001B[0;32m---> 25\u001B[0m \u001B[38;5;28mprint\u001B[39m(\u001B[43mlist_1\u001B[49m)\n",
      "\u001B[0;31mNameError\u001B[0m: name 'list_1' is not defined"
     ]
    }
   ],
   "source": [
    "list_1 = list()  # 通过空构造函数创建列表\n",
    "print(list_1)\n",
    "list_2 = []  # 直接创建空列表\n",
    "print(list_2)\n",
    "list_3 = [1, 2, 3, 4, 5]  # 直接创建列表 带初始值\n",
    "print(list_3)\n",
    "list_4 = list((1, 2, 3, 4, 5))  # 通过元组创建列表\n",
    "print(list_4)\n",
    "list_5 = list({1, 3, 5, 7})  # 通过集合创建列表\n",
    "print(list_5)\n",
    "list_6 = list(range(10))  # 通过range创建列表\n",
    "print(list_6)\n",
    "list_7 = list(map(lambda x: x * x, range(10)))  # 通过map创建列表\n",
    "print(list_7)\n",
    "list_8 = list(filter(lambda x: x % 2 == 0, range(10)))  # 通过filter创建列表\n",
    "print(list_8)\n",
    "list_9 = list(zip(range(10), range(10)))  # 通过zip创建列表\n",
    "print(list_9)\n",
    "list_10 = list('hello world')  # 通过字符串创建列表\n",
    "print(list_10)\n",
    "list_11 = list(enumerate(\"xwwwb\"))  # 通过enumerate创建列表\n",
    "print(list_11)\n",
    "del list_1, list_2, list_3, list_4, list_5, list_6, list_7, list_8, list_9, list_10, list_11\n",
    "print('删除全部列表，下面的代码会报错 因为已经无法访问到了')\n",
    "print(list_1)"
   ]
  },
  {
   "cell_type": "markdown",
   "metadata": {},
   "source": [
    "## 实验内容2\n",
    "下标法访问元素"
   ]
  },
  {
   "cell_type": "code",
   "execution_count": null,
   "metadata": {},
   "outputs": [],
   "source": [
    "data = list(range(10))\n",
    "print(data)\n",
    "print(data[0])  # 第一个\n",
    "print(data[1])  # 第二个\n",
    "print(data[-1])  # 倒数第一个\n",
    "print(data[15])  # 报错"
   ]
  },
  {
   "cell_type": "markdown",
   "metadata": {},
   "source": [
    "## 实验内容3\n",
    "列表常用方法设计与练习"
   ]
  },
  {
   "cell_type": "code",
   "execution_count": null,
   "metadata": {},
   "outputs": [],
   "source": [
    "lst = [1, 2, 3, 4, 5, 6]\n",
    "print(lst)\n",
    "lst.append(5)\n",
    "print(lst)\n",
    "lst.insert(0, 0)\n",
    "print(lst)\n",
    "lst.insert(2, 1.5)\n",
    "print(lst)\n",
    "lst.extend([6, 7])  # extend 一个数组的时候 会将该数组中的元素添加到被操作数组中\n",
    "print(lst)\n",
    "lst.append([8, 9])  # append 一个数组的时候 会将该数组作为子数组添加到被操作数组中\n",
    "print(lst)\n",
    "\n",
    "lst = [1, 2, 3, 4, 5, 6]\n",
    "print(lst.pop())  # 删除并返回最后一个\n",
    "print(lst.pop(0))  # 删除并返回下标为0的元素\n",
    "print(lst.pop(2))  # 删除并返回下标为2的元素\n",
    "print(lst)\n",
    "lst = [1, 2, 3, 2, 4, 2]\n",
    "lst.remove(2)  # 删除第一个2\n",
    "print(lst)\n",
    "\n",
    "lst = [1, 2, 2, 3, 3, 3, 4, 4, 4, 4]\n",
    "print(lst.count(2))  # 统计2出现的次数\n",
    "print(lst.index(4))  # 统计4第一次出现的下标\n",
    "print(lst.index(5))  # 报错 数组中没有5"
   ]
  },
  {
   "cell_type": "markdown",
   "metadata": {},
   "source": [
    "## 实验内容4\n",
    "对于列表`L1 = [' 北京'，' 上海'，' 天津'，' 济南'，' 郑州'，' 合肥'，' 南京'，' 杭州']`\n",
    "实现以下功能\n",
    "\n",
    "1. 计算列表的长度；\n",
    "2. 向列表追加元素' 福州'，并输出添加后的列表；\n",
    "3. 在列表的第3 个位置插入元素' 太原'，并输出添加后的列表；\n",
    "4. 修改列表第5 个位置的元素为' 石家庄'，并输出修改后的列表；\n",
    "5. 删除列表中的元素' 上海'，并输出修改后的列表；\n",
    "6. 删除列表中的第1 个元素，并输出删除元素的值以及删除后的列表；\n",
    "7. 查询并输出元素' 郑州' 的索引位置；\n",
    "8. 使用切片操作，输出列表第1 到第5 个元素的值；\n",
    "9. 使用切片操作，输出列表从开始到第6 个元素的值；\n",
    "10. 使用切片操作，输出列表从第6 个元素到最后的所有元素值；\n",
    "11. 使用切片操作，逆序输出列表第4 个元素到最后一个元素的值；\n",
    "12. 把列表L1 转换成元组T"
   ]
  },
  {
   "cell_type": "code",
   "execution_count": null,
   "metadata": {},
   "outputs": [],
   "source": [
    "L1 = ['北京', '上海', '天津', '济南', '郑州', '合肥', '南京', '杭州']\n",
    "print(len(L1))  # 计算列表的长度；\n",
    "L1.append('福州')  # 向列表追加元素' 福州'，并输出添加后的列表\n",
    "print(L1)\n",
    "L1.insert(2, '太原')  # 在列表的第3 个位置插入元素' 太原'，并输出添加后的列表\n",
    "print(L1)\n",
    "L1[4] = '石家庄'  # 修改列表第5 个位置的元素为' 石家庄'，并输出修改后的列表\n",
    "print(L1)\n",
    "L1.remove('上海')  # 删除列表中的元素' 上海'，并输出修改后的列表\n",
    "print(L1)\n",
    "print(L1.pop(0))  # 删除列表中的第1 个元素，并输出删除元素的值以及删除后的列表\n",
    "print(L1)\n",
    "print(L1.index('郑州'))  # 查询并输出元素' 郑州' 的索引位置\n",
    "print(L1[0:5])  # 使用切片操作，输出列表第1 到第5 个元素的值\n",
    "print(L1[:6])  # 使用切片操作，输出列表从开始到第6 个元素的值\n",
    "print(L1[5:])  # 使用切片操作，输出列表从第6 个元素到最后的所有元素值\n",
    "print(L1[3:])  # 使用切片操作，逆序输出列表第4 个元素到最后一个元素的值\n",
    "print(tuple(L1))  # 把列表L1 转换成元组T"
   ]
  },
  {
   "cell_type": "markdown",
   "metadata": {},
   "source": [
    "## 实验内容5\n",
    "学习列表的加法乘法运算法 成员测试运算符 id函数 掌握返回新列表和原地操作的不同"
   ]
  },
  {
   "cell_type": "code",
   "execution_count": null,
   "metadata": {},
   "outputs": [],
   "source": [
    "x = [1, 2, 3]\n",
    "print(id(x))\n",
    "x = x + [4]\n",
    "print(id(x))  # 此时的x是新列表\n",
    "x += [5]\n",
    "print(id(x))  # 此时的x是原地操作 地址不变\n",
    "\n",
    "x = [1, 2, 3, 4]\n",
    "print(id(x))\n",
    "x = x * 2\n",
    "print(id(x))  # 此时的x是新列表\n",
    "x *= 2\n",
    "print(id(x))  # 此时的x是原地操作 地址不变\n",
    "\n",
    "print(3 in [1, 2, 3])\n",
    "print(3 in [1, 2, '3'])"
   ]
  },
  {
   "cell_type": "markdown",
   "metadata": {},
   "source": [
    "## 实验内容6\n",
    "内置函数对列表的操作"
   ]
  },
  {
   "cell_type": "code",
   "execution_count": null,
   "metadata": {},
   "outputs": [],
   "source": [
    "x = list(range(10))\n",
    "import random\n",
    "\n",
    "random.shuffle(x)  # 乱序\n",
    "print(x)\n",
    "print(all(x))  # 测试是否所有元素都为真 因为有0 所以结果应该是False\n",
    "print(any(x))  # 测试是否有元素为真 因为有1 所以结果应该是True\n",
    "print(max(x))  # 返回最大值\n",
    "print(max(x, key=str))  # 返回Ascii最大的值\n",
    "print(min(x))  # 返回最小值\n",
    "print(sum(x))  # 返回和\n",
    "print(len(x))  # 返回长度\n",
    "print(list(zip(x, [1] * 10)))  # 将两个列表合并成一个列表\n",
    "print(list(zip(range(1, 4))))  # zip传入一个参数 序列或迭代对象\n",
    "print(list(zip(['1', '2', '3'], ['a', 'b', 'c'])))  # zip传入两个参数 序列或迭代对象\n",
    "print(list(zip(['1', '2'], [1, 2, 3])))  # zip传入两个参数 长度不同时以短的为准\n",
    "print(enumerate(x))  # 返回一个枚举对象 不可直接访问\n",
    "print(range(10))  # 返回一个range对象 不可直接访问\n",
    "print(list(enumerate(x)))  # 使用list函数作用与枚举对象 返回一个列表\n",
    "print(list(range(10)))  # 使用list函数作用与range对象 返回一个列表"
   ]
  },
  {
   "cell_type": "markdown",
   "metadata": {},
   "source": [
    "## 实验内容7\n",
    "打印本学期课表\n",
    "使用了markdown的格式输出表格 jupyter无法显示正常的tab符"
   ]
  },
  {
   "cell_type": "code",
   "execution_count": 38,
   "metadata": {},
   "outputs": [
    {
     "name": "stdout",
     "output_type": "stream",
     "text": [
      "|节|星期一|星期二|星期三|星期四|星期五|星期六|星期日|\n",
      "|-|-|-|-|-|-|-|-|\n",
      "|1|专业英语|编译原理|计算机体系结构|编译原理|大学生就业指南|空|空|\n",
      "|2|形势政策|空|计算机图形学|毛泽东思想及中国特色社会主义|计算机图形学|GIS实验|空|\n",
      "|3|空|毛泽东思想及中国特色社会主义|空|空|GIS创新|Python数据可视化|空|\n",
      "|4|操作系统|空|操作系统|空|专业英语|计算机图形学实验|空|\n"
     ]
    }
   ],
   "source": [
    "course = [['专业英语', '形势政策', None, '操作系统'],\n",
    "          ['编译原理', None, '毛泽东思想及中国特色社会主义', None],\n",
    "          ['计算机体系结构', '计算机图形学', None, '操作系统'],\n",
    "          ['编译原理', '毛泽东思想及中国特色社会主义', None, None],\n",
    "          ['大学生就业指南', '计算机图形学', 'GIS创新', '专业英语'],\n",
    "          [None, 'GIS实验', 'Python数据可视化', '计算机图形学实验'],\n",
    "          [None] * 4\n",
    "          ]\n",
    "title = ['节', '星期一', '星期二', '星期三', '星期四', '星期五', '星期六', '星期日']\n",
    "print('|' + '|'.join(title) + '|')\n",
    "print('|' + '-|' * 8)\n",
    "for i in range(4):\n",
    "    print(f\"|{i + 1}\", end='')\n",
    "    for j in range(7):\n",
    "        if course[j][i] is None:\n",
    "            print('|空', end='')\n",
    "        else:\n",
    "            print(\"|\" + course[j][i], end='')\n",
    "    print('|')"
   ]
  },
  {
   "cell_type": "markdown",
   "metadata": {},
   "source": [
    "### 输出结果：\n",
    "|节|星期一|星期二|星期三|星期四|星期五|星期六|星期日|\n",
    "|-|-|-|-|-|-|-|-|\n",
    "|1|专业英语|编译原理|计算机体系结构|编译原理|大学生就业指南|空|空|\n",
    "|2|形势政策|空|计算机图形学|毛泽东思想及中国特色社会主义|计算机图形学|GIS实验|空|\n",
    "|3|空|毛泽东思想及中国特色社会主义|空|空|GIS创新|Python数据可视化|空|\n",
    "|4|操作系统|空|操作系统|空|专业英语|计算机图形学实验|空|"
   ]
  },
  {
   "cell_type": "markdown",
   "metadata": {},
   "source": [
    "## 实验内容8\n",
    "输入大于2的自然数，输出小于该数字的所有素数列表"
   ]
  },
  {
   "cell_type": "code",
   "execution_count": 40,
   "outputs": [
    {
     "name": "stdout",
     "output_type": "stream",
     "text": [
      "[2, 3, 5, 7, 11, 13, 17, 19, 23, 29, 31, 37, 41, 43, 47, 53, 59, 61, 67, 71, 73, 79]\n"
     ]
    }
   ],
   "source": [
    "num = input(\"大于2的自然数\")\n",
    "num = int(num)\n",
    "if num <= 2:\n",
    "    print(\"输入错误\")\n",
    "else:\n",
    "    prime = [2]\n",
    "    for i in range(3, num):\n",
    "        for j in prime:\n",
    "            if i % j == 0:\n",
    "                break\n",
    "        else:\n",
    "            prime.append(i)\n",
    "    print(prime)"
   ],
   "metadata": {
    "collapsed": false
   }
  },
  {
   "cell_type": "markdown",
   "source": [
    "## 实验内容9\n",
    "统计每个单词出现的次数\n",
    "`At half past eight, Mr. Dursley picked up his briefcase, pecked Mrs. Dursley on the cheek, and tried to kiss Dudley good-bye but missed, because Dudley was now having a tantrum and throwing his cereal at the walls. “Little tyke”, chortled Mr. Dursley as he left the house.\n",
    "`"
   ],
   "metadata": {
    "collapsed": false
   }
  },
  {
   "cell_type": "code",
   "execution_count": 53,
   "outputs": [
    {
     "name": "stdout",
     "output_type": "stream",
     "text": [
      "分词结果\n",
      "['At', 'half', 'past', 'eight', 'Mr', 'Dursley', 'picked', 'up', 'his', 'briefcase', 'pecked', 'Mrs', 'Dursley', 'on', 'the', 'cheek', 'and', 'tried', 'to', 'kiss', 'Dudley', 'good-bye', 'but', 'missed', 'because', 'Dudley', 'was', 'now', 'having', 'a', 'tantrum', 'and', 'throwing', 'his', 'cereal', 'at', 'the', 'walls', 'Little', 'tyke', 'chortled', 'Mr', 'Dursley', 'as', 'he', 'left', 'the', 'house']\n",
      "{'At': 1, 'half': 1, 'past': 1, 'eight': 1, 'Mr': 2, 'Dursley': 3, 'picked': 1, 'up': 1, 'his': 2, 'briefcase': 1, 'pecked': 1, 'Mrs': 1, 'on': 1, 'the': 3, 'cheek': 1, 'and': 2, 'tried': 1, 'to': 1, 'kiss': 1, 'Dudley': 2, 'good-bye': 1, 'but': 1, 'missed': 1, 'because': 1, 'was': 1, 'now': 1, 'having': 1, 'a': 1, 'tantrum': 1, 'throwing': 1, 'cereal': 1, 'at': 1, 'walls': 1, 'Little': 1, 'tyke': 1, 'chortled': 1, 'as': 1, 'he': 1, 'left': 1, 'house': 1}\n",
      "At出现了：1次\n",
      "half出现了：1次\n",
      "past出现了：1次\n",
      "eight出现了：1次\n",
      "Mr出现了：2次\n",
      "Dursley出现了：3次\n",
      "picked出现了：1次\n",
      "up出现了：1次\n",
      "his出现了：2次\n",
      "briefcase出现了：1次\n",
      "pecked出现了：1次\n",
      "Mrs出现了：1次\n",
      "on出现了：1次\n",
      "the出现了：3次\n",
      "cheek出现了：1次\n",
      "and出现了：2次\n",
      "tried出现了：1次\n",
      "to出现了：1次\n",
      "kiss出现了：1次\n",
      "Dudley出现了：2次\n",
      "good-bye出现了：1次\n",
      "but出现了：1次\n",
      "missed出现了：1次\n",
      "because出现了：1次\n",
      "was出现了：1次\n",
      "now出现了：1次\n",
      "having出现了：1次\n",
      "a出现了：1次\n",
      "tantrum出现了：1次\n",
      "throwing出现了：1次\n",
      "cereal出现了：1次\n",
      "at出现了：1次\n",
      "walls出现了：1次\n",
      "Little出现了：1次\n",
      "tyke出现了：1次\n",
      "chortled出现了：1次\n",
      "as出现了：1次\n",
      "he出现了：1次\n",
      "left出现了：1次\n",
      "house出现了：1次\n"
     ]
    }
   ],
   "source": [
    "text = \"\"\"At half past eight, Mr. Dursley picked up his briefcase, pecked Mrs. Dursley on the cheek, and tried to kiss Dudley good-bye but missed, because Dudley was now having a tantrum and throwing his cereal at the walls. \"Little tyke\", chortled Mr. Dursley as he left the house.\"\"\"\n",
    "# 先基于逗号分割\n",
    "text = text.split(',')\n",
    "# 基于引号分割\n",
    "text = [i.split('\"') for i in text]\n",
    "# 拼接所有子列表\n",
    "text = [j for i in text for j in i]\n",
    "# 基于英文点号分割\n",
    "text = [i.split('.') for i in text]\n",
    "# 拼接所有子列表\n",
    "text = [j for i in text for j in i]\n",
    "# 基于空格分割\n",
    "text = [i.split(' ') for i in text]\n",
    "# 拼接所有子列表\n",
    "text = [j for i in text for j in i]\n",
    "# 删除空字符串\n",
    "text = [i for i in text if i != '']\n",
    "print(\"分词结果\")\n",
    "print(text)\n",
    "count = {}\n",
    "for i in text:\n",
    "    if i in count:\n",
    "        count[i] += 1\n",
    "    else:\n",
    "        count[i] = 1\n",
    "print(count)\n",
    "for k in count:\n",
    "    print(f\"{k}出现了：{count[k]}次\")"
   ],
   "metadata": {
    "collapsed": false
   }
  },
  {
   "cell_type": "markdown",
   "source": [
    "## 实验内容10\n",
    "元组`T1 = ('河北'，'河南'，'山东'，'安徽'，'江苏'，'浙江'，'河南'，'福建')`\n",
    "实现以下功能\n",
    "1. 试向T1添加元素‘江西’，是否能添加成功？\n",
    "2. 分别用for循环和while循环，遍历输出元组的元素；\n",
    "3. 统计元素‘河南’在元组中出现的次数；\n",
    "4. 查找元素‘山东’在元组中的位置；\n",
    "5. 把元组T1转换成列表L2；\n",
    "6. 把元组转换成字符串S；\n",
    "7. 有元组 T2 = （‘北京’，‘天津’，‘上海’），连接元组T1 和T2，生成新的元组T3。\n"
   ],
   "metadata": {
    "collapsed": false
   }
  },
  {
   "cell_type": "code",
   "execution_count": 57,
   "outputs": [
    {
     "name": "stdout",
     "output_type": "stream",
     "text": [
      "元组不能添加新元素\n",
      "遍历元组\n",
      "河北\n",
      "河南\n",
      "山东\n",
      "安徽\n",
      "江苏\n",
      "浙江\n",
      "河南\n",
      "福建\n",
      "河北\n",
      "河南\n",
      "山东\n",
      "安徽\n",
      "江苏\n",
      "浙江\n",
      "河南\n",
      "福建\n",
      "统计元素“河南”在元组中出现的次数\n",
      "2\n",
      "查找元素“山东”在元组中的位置\n",
      "2\n",
      "把元组T1转换成列表L2\n",
      "['河北', '河南', '山东', '安徽', '江苏', '浙江', '河南', '福建']\n",
      "把元组转换成字符串S\n",
      "('河北', '河南', '山东', '安徽', '江苏', '浙江', '河南', '福建')\n",
      "连接元组T1 和T2，生成新的元组T3\n",
      "('河北', '河南', '山东', '安徽', '江苏', '浙江', '河南', '福建', '北京', '天津', '上海')\n"
     ]
    }
   ],
   "source": [
    "T1 = ('河北', '河南', '山东', '安徽', '江苏', '浙江', '河南', '福建')\n",
    "print('元组不能添加新元素')\n",
    "print('遍历元组')\n",
    "for i in T1:\n",
    "    print(i)\n",
    "while len(T1) > 0:\n",
    "    print(T1[0])\n",
    "    T1 = T1[1:]\n",
    "print('统计元素“河南”在元组中出现的次数')\n",
    "count = 0\n",
    "\n",
    "T1 = ('河北', '河南', '山东', '安徽', '江苏', '浙江', '河南', '福建')\n",
    "for i in T1:\n",
    "    if i == '河南':\n",
    "        count += 1\n",
    "print(count)\n",
    "print('查找元素“山东”在元组中的位置')\n",
    "for i in range(len(T1)):\n",
    "    if T1[i] == '山东':\n",
    "        print(i)\n",
    "print('把元组T1转换成列表L2')\n",
    "L2 = list(T1)\n",
    "print(L2)\n",
    "print('把元组转换成字符串S')\n",
    "S = str(T1)\n",
    "print(S)\n",
    "print('连接元组T1 和T2，生成新的元组T3')\n",
    "T2 = ('北京', '天津', '上海')\n",
    "T3 = T1 + T2\n",
    "print(T3)"
   ],
   "metadata": {
    "collapsed": false
   }
  },
  {
   "cell_type": "markdown",
   "source": [
    "## 实验内容11\n",
    "有字典`D1 = {'安然': 95, '崔子健': 58, '丁肇庆': 85, '华红艳': 78, '古瑞霞': 68, '刘美丽': 90, '苏芮': 75}`\n",
    "设计代码实现下面的功能\n",
    "1. 为字典添加键值对‘陶知一’:92\n",
    "2. 用for循环遍历输出字典中的元素\n",
    "3. 删除字典中的键值对‘崔子健’:58\n",
    "4. 返回键‘刘美丽’对应的值，并删除该键值对\n",
    "5. 获取字典中的所有键，并转化成元组T\n",
    "6. 获取字典中的所有值，并转换成列表L\n",
    "7. 再把T和L合并成字典，以T中元素为键，以L中的元素为对应的值\n"
   ],
   "metadata": {
    "collapsed": false
   }
  },
  {
   "cell_type": "code",
   "execution_count": 58,
   "outputs": [
    {
     "name": "stdout",
     "output_type": "stream",
     "text": [
      "添加新元素\n",
      "{'安然': 95, '崔子健': 58, '丁肇庆': 85, '华红艳': 78, '古瑞霞': 68, '刘美丽': 90, '苏芮': 75, '陶知一': 92}\n",
      "遍历字典\n",
      "安然:95\n",
      "崔子健:58\n",
      "丁肇庆:85\n",
      "华红艳:78\n",
      "古瑞霞:68\n",
      "刘美丽:90\n",
      "苏芮:75\n",
      "陶知一:92\n",
      "删除字典中的键值对‘崔子健’:58\n",
      "{'安然': 95, '丁肇庆': 85, '华红艳': 78, '古瑞霞': 68, '刘美丽': 90, '苏芮': 75, '陶知一': 92}\n",
      "返回键‘刘美丽’对应的值，并删除该键值对\n",
      "90\n",
      "{'安然': 95, '丁肇庆': 85, '华红艳': 78, '古瑞霞': 68, '苏芮': 75, '陶知一': 92}\n",
      "获取字典中的所有键，并转化成元组T\n",
      "('安然', '丁肇庆', '华红艳', '古瑞霞', '苏芮', '陶知一')\n",
      "获取字典中的所有值，并转换成列表L\n",
      "[95, 85, 78, 68, 75, 92]\n",
      "再把T和L合并成字典，以T中元素为键，以L中的元素为对应的值\n",
      "{'安然': 95, '丁肇庆': 85, '华红艳': 78, '古瑞霞': 68, '苏芮': 75, '陶知一': 92}\n"
     ]
    }
   ],
   "source": [
    "D1 = {'安然': 95, '崔子健': 58, '丁肇庆': 85, '华红艳': 78, '古瑞霞': 68, '刘美丽': 90, '苏芮': 75}\n",
    "\n",
    "print('添加新元素')\n",
    "D1['陶知一'] = 92\n",
    "print(D1)\n",
    "print(\"遍历字典\")\n",
    "for k in D1:\n",
    "    print(f\"{k}:{D1[k]}\")\n",
    "print('删除字典中的键值对‘崔子健’:58')\n",
    "del D1['崔子健']\n",
    "print(D1)\n",
    "print('返回键‘刘美丽’对应的值，并删除该键值对')\n",
    "print(D1.pop('刘美丽'))\n",
    "print(D1)\n",
    "print('获取字典中的所有键，并转化成元组T')\n",
    "T = tuple(D1.keys())\n",
    "print(T)\n",
    "print('获取字典中的所有值，并转换成列表L')\n",
    "L = list(D1.values())\n",
    "print(L)\n",
    "print('再把T和L合并成字典，以T中元素为键，以L中的元素为对应的值')\n",
    "D2 = dict(zip(T, L))\n",
    "print(D2)"
   ],
   "metadata": {
    "collapsed": false
   }
  },
  {
   "cell_type": "markdown",
   "source": [
    "## 实验内容12\n"
   ],
   "metadata": {
    "collapsed": false
   }
  },
  {
   "cell_type": "code",
   "execution_count": 61,
   "outputs": [
    {
     "ename": "ValueError",
     "evalue": "x and y must have same first dimension, but have shapes (9,) and (8, 6)",
     "output_type": "error",
     "traceback": [
      "\u001B[0;31m---------------------------------------------------------------------------\u001B[0m",
      "\u001B[0;31mValueError\u001B[0m                                Traceback (most recent call last)",
      "Cell \u001B[0;32mIn[61], line 18\u001B[0m\n\u001B[1;32m     16\u001B[0m fig \u001B[38;5;241m=\u001B[39m plt\u001B[38;5;241m.\u001B[39mfigure(facecolor\u001B[38;5;241m=\u001B[39m\u001B[38;5;124m\"\u001B[39m\u001B[38;5;124mwhite\u001B[39m\u001B[38;5;124m\"\u001B[39m)\n\u001B[1;32m     17\u001B[0m plt\u001B[38;5;241m.\u001B[39msubplot(\u001B[38;5;241m111\u001B[39m, polar\u001B[38;5;241m=\u001B[39m\u001B[38;5;28;01mTrue\u001B[39;00m)\n\u001B[0;32m---> 18\u001B[0m \u001B[43mplt\u001B[49m\u001B[38;5;241;43m.\u001B[39;49m\u001B[43mplot\u001B[49m\u001B[43m(\u001B[49m\u001B[43mangles\u001B[49m\u001B[43m,\u001B[49m\u001B[43m \u001B[49m\u001B[43mdata\u001B[49m\u001B[43m,\u001B[49m\u001B[43m \u001B[49m\u001B[38;5;124;43m'\u001B[39;49m\u001B[38;5;124;43mo-\u001B[39;49m\u001B[38;5;124;43m'\u001B[39;49m\u001B[43m,\u001B[49m\u001B[43m \u001B[49m\u001B[43mlinewidth\u001B[49m\u001B[38;5;241;43m=\u001B[39;49m\u001B[38;5;241;43m1\u001B[39;49m\u001B[43m)\u001B[49m\n\u001B[1;32m     19\u001B[0m plt\u001B[38;5;241m.\u001B[39mthetagrids(angles \u001B[38;5;241m*\u001B[39m \u001B[38;5;241m180\u001B[39m \u001B[38;5;241m/\u001B[39m np\u001B[38;5;241m.\u001B[39mpi, radar_labels)\n\u001B[1;32m     20\u001B[0m plt\u001B[38;5;241m.\u001B[39mfigtext(\u001B[38;5;241m0.52\u001B[39m, \u001B[38;5;241m0.95\u001B[39m, \u001B[38;5;124m\"\u001B[39m\u001B[38;5;124m某组学生课程成绩\u001B[39m\u001B[38;5;124m\"\u001B[39m, ha\u001B[38;5;241m=\u001B[39m\u001B[38;5;124m'\u001B[39m\u001B[38;5;124mcenter\u001B[39m\u001B[38;5;124m'\u001B[39m, size\u001B[38;5;241m=\u001B[39m\u001B[38;5;241m20\u001B[39m)\n",
      "File \u001B[0;32m~/Coding/python/python_visual/venv/lib/python3.9/site-packages/matplotlib/pyplot.py:2812\u001B[0m, in \u001B[0;36mplot\u001B[0;34m(scalex, scaley, data, *args, **kwargs)\u001B[0m\n\u001B[1;32m   2810\u001B[0m \u001B[38;5;129m@_copy_docstring_and_deprecators\u001B[39m(Axes\u001B[38;5;241m.\u001B[39mplot)\n\u001B[1;32m   2811\u001B[0m \u001B[38;5;28;01mdef\u001B[39;00m \u001B[38;5;21mplot\u001B[39m(\u001B[38;5;241m*\u001B[39margs, scalex\u001B[38;5;241m=\u001B[39m\u001B[38;5;28;01mTrue\u001B[39;00m, scaley\u001B[38;5;241m=\u001B[39m\u001B[38;5;28;01mTrue\u001B[39;00m, data\u001B[38;5;241m=\u001B[39m\u001B[38;5;28;01mNone\u001B[39;00m, \u001B[38;5;241m*\u001B[39m\u001B[38;5;241m*\u001B[39mkwargs):\n\u001B[0;32m-> 2812\u001B[0m     \u001B[38;5;28;01mreturn\u001B[39;00m \u001B[43mgca\u001B[49m\u001B[43m(\u001B[49m\u001B[43m)\u001B[49m\u001B[38;5;241;43m.\u001B[39;49m\u001B[43mplot\u001B[49m\u001B[43m(\u001B[49m\n\u001B[1;32m   2813\u001B[0m \u001B[43m        \u001B[49m\u001B[38;5;241;43m*\u001B[39;49m\u001B[43margs\u001B[49m\u001B[43m,\u001B[49m\u001B[43m \u001B[49m\u001B[43mscalex\u001B[49m\u001B[38;5;241;43m=\u001B[39;49m\u001B[43mscalex\u001B[49m\u001B[43m,\u001B[49m\u001B[43m \u001B[49m\u001B[43mscaley\u001B[49m\u001B[38;5;241;43m=\u001B[39;49m\u001B[43mscaley\u001B[49m\u001B[43m,\u001B[49m\n\u001B[1;32m   2814\u001B[0m \u001B[43m        \u001B[49m\u001B[38;5;241;43m*\u001B[39;49m\u001B[38;5;241;43m*\u001B[39;49m\u001B[43m(\u001B[49m\u001B[43m{\u001B[49m\u001B[38;5;124;43m\"\u001B[39;49m\u001B[38;5;124;43mdata\u001B[39;49m\u001B[38;5;124;43m\"\u001B[39;49m\u001B[43m:\u001B[49m\u001B[43m \u001B[49m\u001B[43mdata\u001B[49m\u001B[43m}\u001B[49m\u001B[43m \u001B[49m\u001B[38;5;28;43;01mif\u001B[39;49;00m\u001B[43m \u001B[49m\u001B[43mdata\u001B[49m\u001B[43m \u001B[49m\u001B[38;5;129;43;01mis\u001B[39;49;00m\u001B[43m \u001B[49m\u001B[38;5;129;43;01mnot\u001B[39;49;00m\u001B[43m \u001B[49m\u001B[38;5;28;43;01mNone\u001B[39;49;00m\u001B[43m \u001B[49m\u001B[38;5;28;43;01melse\u001B[39;49;00m\u001B[43m \u001B[49m\u001B[43m{\u001B[49m\u001B[43m}\u001B[49m\u001B[43m)\u001B[49m\u001B[43m,\u001B[49m\u001B[43m \u001B[49m\u001B[38;5;241;43m*\u001B[39;49m\u001B[38;5;241;43m*\u001B[39;49m\u001B[43mkwargs\u001B[49m\u001B[43m)\u001B[49m\n",
      "File \u001B[0;32m~/Coding/python/python_visual/venv/lib/python3.9/site-packages/matplotlib/axes/_axes.py:1688\u001B[0m, in \u001B[0;36mAxes.plot\u001B[0;34m(self, scalex, scaley, data, *args, **kwargs)\u001B[0m\n\u001B[1;32m   1445\u001B[0m \u001B[38;5;250m\u001B[39m\u001B[38;5;124;03m\"\"\"\u001B[39;00m\n\u001B[1;32m   1446\u001B[0m \u001B[38;5;124;03mPlot y versus x as lines and/or markers.\u001B[39;00m\n\u001B[1;32m   1447\u001B[0m \n\u001B[0;32m   (...)\u001B[0m\n\u001B[1;32m   1685\u001B[0m \u001B[38;5;124;03m(``'green'``) or hex strings (``'#008000'``).\u001B[39;00m\n\u001B[1;32m   1686\u001B[0m \u001B[38;5;124;03m\"\"\"\u001B[39;00m\n\u001B[1;32m   1687\u001B[0m kwargs \u001B[38;5;241m=\u001B[39m cbook\u001B[38;5;241m.\u001B[39mnormalize_kwargs(kwargs, mlines\u001B[38;5;241m.\u001B[39mLine2D)\n\u001B[0;32m-> 1688\u001B[0m lines \u001B[38;5;241m=\u001B[39m [\u001B[38;5;241m*\u001B[39m\u001B[38;5;28mself\u001B[39m\u001B[38;5;241m.\u001B[39m_get_lines(\u001B[38;5;241m*\u001B[39margs, data\u001B[38;5;241m=\u001B[39mdata, \u001B[38;5;241m*\u001B[39m\u001B[38;5;241m*\u001B[39mkwargs)]\n\u001B[1;32m   1689\u001B[0m \u001B[38;5;28;01mfor\u001B[39;00m line \u001B[38;5;129;01min\u001B[39;00m lines:\n\u001B[1;32m   1690\u001B[0m     \u001B[38;5;28mself\u001B[39m\u001B[38;5;241m.\u001B[39madd_line(line)\n",
      "File \u001B[0;32m~/Coding/python/python_visual/venv/lib/python3.9/site-packages/matplotlib/axes/_base.py:311\u001B[0m, in \u001B[0;36m_process_plot_var_args.__call__\u001B[0;34m(self, data, *args, **kwargs)\u001B[0m\n\u001B[1;32m    309\u001B[0m     this \u001B[38;5;241m+\u001B[39m\u001B[38;5;241m=\u001B[39m args[\u001B[38;5;241m0\u001B[39m],\n\u001B[1;32m    310\u001B[0m     args \u001B[38;5;241m=\u001B[39m args[\u001B[38;5;241m1\u001B[39m:]\n\u001B[0;32m--> 311\u001B[0m \u001B[38;5;28;01myield from\u001B[39;00m \u001B[38;5;28;43mself\u001B[39;49m\u001B[38;5;241;43m.\u001B[39;49m\u001B[43m_plot_args\u001B[49m\u001B[43m(\u001B[49m\n\u001B[1;32m    312\u001B[0m \u001B[43m    \u001B[49m\u001B[43mthis\u001B[49m\u001B[43m,\u001B[49m\u001B[43m \u001B[49m\u001B[43mkwargs\u001B[49m\u001B[43m,\u001B[49m\u001B[43m \u001B[49m\u001B[43mambiguous_fmt_datakey\u001B[49m\u001B[38;5;241;43m=\u001B[39;49m\u001B[43mambiguous_fmt_datakey\u001B[49m\u001B[43m)\u001B[49m\n",
      "File \u001B[0;32m~/Coding/python/python_visual/venv/lib/python3.9/site-packages/matplotlib/axes/_base.py:504\u001B[0m, in \u001B[0;36m_process_plot_var_args._plot_args\u001B[0;34m(self, tup, kwargs, return_kwargs, ambiguous_fmt_datakey)\u001B[0m\n\u001B[1;32m    501\u001B[0m     \u001B[38;5;28mself\u001B[39m\u001B[38;5;241m.\u001B[39maxes\u001B[38;5;241m.\u001B[39myaxis\u001B[38;5;241m.\u001B[39mupdate_units(y)\n\u001B[1;32m    503\u001B[0m \u001B[38;5;28;01mif\u001B[39;00m x\u001B[38;5;241m.\u001B[39mshape[\u001B[38;5;241m0\u001B[39m] \u001B[38;5;241m!=\u001B[39m y\u001B[38;5;241m.\u001B[39mshape[\u001B[38;5;241m0\u001B[39m]:\n\u001B[0;32m--> 504\u001B[0m     \u001B[38;5;28;01mraise\u001B[39;00m \u001B[38;5;167;01mValueError\u001B[39;00m(\u001B[38;5;124mf\u001B[39m\u001B[38;5;124m\"\u001B[39m\u001B[38;5;124mx and y must have same first dimension, but \u001B[39m\u001B[38;5;124m\"\u001B[39m\n\u001B[1;32m    505\u001B[0m                      \u001B[38;5;124mf\u001B[39m\u001B[38;5;124m\"\u001B[39m\u001B[38;5;124mhave shapes \u001B[39m\u001B[38;5;132;01m{\u001B[39;00mx\u001B[38;5;241m.\u001B[39mshape\u001B[38;5;132;01m}\u001B[39;00m\u001B[38;5;124m and \u001B[39m\u001B[38;5;132;01m{\u001B[39;00my\u001B[38;5;241m.\u001B[39mshape\u001B[38;5;132;01m}\u001B[39;00m\u001B[38;5;124m\"\u001B[39m)\n\u001B[1;32m    506\u001B[0m \u001B[38;5;28;01mif\u001B[39;00m x\u001B[38;5;241m.\u001B[39mndim \u001B[38;5;241m>\u001B[39m \u001B[38;5;241m2\u001B[39m \u001B[38;5;129;01mor\u001B[39;00m y\u001B[38;5;241m.\u001B[39mndim \u001B[38;5;241m>\u001B[39m \u001B[38;5;241m2\u001B[39m:\n\u001B[1;32m    507\u001B[0m     \u001B[38;5;28;01mraise\u001B[39;00m \u001B[38;5;167;01mValueError\u001B[39;00m(\u001B[38;5;124mf\u001B[39m\u001B[38;5;124m\"\u001B[39m\u001B[38;5;124mx and y can be no greater than 2D, but have \u001B[39m\u001B[38;5;124m\"\u001B[39m\n\u001B[1;32m    508\u001B[0m                      \u001B[38;5;124mf\u001B[39m\u001B[38;5;124m\"\u001B[39m\u001B[38;5;124mshapes \u001B[39m\u001B[38;5;132;01m{\u001B[39;00mx\u001B[38;5;241m.\u001B[39mshape\u001B[38;5;132;01m}\u001B[39;00m\u001B[38;5;124m and \u001B[39m\u001B[38;5;132;01m{\u001B[39;00my\u001B[38;5;241m.\u001B[39mshape\u001B[38;5;132;01m}\u001B[39;00m\u001B[38;5;124m\"\u001B[39m)\n",
      "\u001B[0;31mValueError\u001B[0m: x and y must have same first dimension, but have shapes (9,) and (8, 6)"
     ]
    },
    {
     "data": {
      "text/plain": "<Figure size 640x480 with 1 Axes>",
      "image/png": "[encoded data removed]"
     },
     "metadata": {},
     "output_type": "display_data"
    }
   ],
   "source": [
    "import numpy as np\n",
    "import matplotlib.pyplot as plt\n",
    "\n",
    "radar_labels = np.array(\n",
    "    ['C++', 'Python', '高等数学', '大学英语', '电路分析', '软件工程', '计算机网络', '数据结构', 'C++'])\n",
    "data = np.array(\n",
    "    [[80, 75, 85, 82, 70, 65],\n",
    "     [95, 85, 90, 80, 75, 92],\n",
    "     [78, 74, 71, 70, 80, 82],\n",
    "     [85, 82, 80, 76, 73, 72],\n",
    "     [50, 75, 80, 86, 72, 67],\n",
    "     [72, 85, 80, 90, 76, 81],\n",
    "     [82, 75, 89, 91, 82, 70],\n",
    "     [90, 85, 55, 92, 81, 77]])\n",
    "data_labels = (\"文英\", \"赵普\", \"颜燕\", \"李科\", \"董晓\", \"杨阳\")\n",
    "angles = np.linspace(0, 2 * np.pi, 9)\n",
    "fig = plt.figure(facecolor=\"white\")\n",
    "plt.subplot(111, polar=True)\n",
    "plt.plot(angles, data, 'o-', linewidth=1)\n",
    "plt.thetagrids(angles * 180 / np.pi, radar_labels)\n",
    "plt.figtext(0.52, 0.95, \"某组学生课程成绩\", ha='center', size=20)\n",
    "legend = plt.legend(data_labels, loc=(0.94, 0.80), labelspacing=0.1)\n",
    "plt.setp(legend.get_texts(), fontsize='large')\n",
    "plt.grid(True)\n",
    "plt.show()"
   ],
   "metadata": {
    "collapsed": false
   }
  },
  {
   "cell_type": "markdown",
   "source": [
    "## 实验内容13\n",
    "联系生成器表达式"
   ],
   "metadata": {
    "collapsed": false
   }
  },
  {
   "cell_type": "code",
   "execution_count": 62,
   "outputs": [
    {
     "name": "stdout",
     "output_type": "stream",
     "text": [
      "<generator object <genexpr> at 0x10b0ad7b0>\n",
      "[1, 2, 4, 8, 16, 32, 64, 128]\n",
      "()\n",
      "1\n",
      "2\n",
      "4 8 16 32 64 128 "
     ]
    }
   ],
   "source": [
    "gen = (2 ** i for i in range(8))\n",
    "print(gen)\n",
    "print(list(gen))\n",
    "print(tuple(gen))  # 上一步操作 用完了生成器中的所有元素 要重新生成\n",
    "gen = (2 ** i for i in range(8))\n",
    "print(next(gen))\n",
    "print(next(gen))\n",
    "for item in gen:\n",
    "    print(item, end=' ')"
   ],
   "metadata": {
    "collapsed": false
   }
  },
  {
   "cell_type": "code",
   "execution_count": null,
   "outputs": [],
   "source": [],
   "metadata": {
    "collapsed": false
   }
  }
 ],
 "metadata": {
  "kernelspec": {
   "display_name": "Python 3 (ipykernel)",
   "language": "python",
   "name": "python3"
  },
  "language_info": {
   "codemirror_mode": {
    "name": "ipython",
    "version": 3
   },
   "file_extension": ".py",
   "mimetype": "text/x-python",
   "name": "python",
   "nbconvert_exporter": "python",
   "pygments_lexer": "ipython3",
   "version": "3.9.6"
  }
 },
 "nbformat": 4,
 "nbformat_minor": 1
}
